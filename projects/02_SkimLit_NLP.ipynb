{
  "nbformat": 4,
  "nbformat_minor": 0,
  "metadata": {
    "colab": {
      "name": "02_SkimLit_NLP.ipynb",
      "provenance": [],
      "authorship_tag": "ABX9TyOM3AyGDG9mv8x6b4HNTMk7",
      "include_colab_link": true
    },
    "kernelspec": {
      "name": "python3",
      "display_name": "Python 3"
    },
    "language_info": {
      "name": "python"
    },
    "accelerator": "GPU"
  },
  "cells": [
    {
      "cell_type": "markdown",
      "metadata": {
        "id": "view-in-github",
        "colab_type": "text"
      },
      "source": [
        "<a href=\"https://colab.research.google.com/github/nicolasvazquez95/Aprendiendo_DeepLearning/blob/main/projects/02_SkimLit_NLP.ipynb\" target=\"_parent\"><img src=\"https://colab.research.google.com/assets/colab-badge.svg\" alt=\"Open In Colab\"/></a>"
      ]
    },
    {
      "cell_type": "markdown",
      "source": [
        "# SkimLit\n",
        "\n",
        "The purpose of this notebook is to build an NLP model to make reading medical abstracts easier.\n",
        "\n",
        "The paper we're replicating (the source of the dataset that we'll be using) is available in [arXiv](https://arxiv.org/abs/1710.06071).\n",
        "\n",
        "The model architecture that they use is available here: https://arxiv.org/abs/1612.05251\n"
      ],
      "metadata": {
        "id": "7h01gRjoCEux"
      }
    },
    {
      "cell_type": "markdown",
      "source": [
        "## Confirm access to a GPU"
      ],
      "metadata": {
        "id": "eMK6_I-DQCET"
      }
    },
    {
      "cell_type": "code",
      "source": [
        "!nvidia-smi -L"
      ],
      "metadata": {
        "colab": {
          "base_uri": "https://localhost:8080/"
        },
        "id": "KcRoRMJYQlsh",
        "outputId": "c5742870-b9ff-4b28-a6a3-bdb6bbfab863"
      },
      "execution_count": 2,
      "outputs": [
        {
          "output_type": "stream",
          "name": "stdout",
          "text": [
            "GPU 0: Tesla T4 (UUID: GPU-f00957af-0005-1e79-de45-0996c37cf906)\n"
          ]
        }
      ]
    },
    {
      "cell_type": "markdown",
      "source": [
        "## Get data\n",
        "Let's download the dataset they used. It's freely available in GitHub"
      ],
      "metadata": {
        "id": "3sN79ft8QmIv"
      }
    },
    {
      "cell_type": "code",
      "source": [
        "!git clone https://github.com/Franck-Dernoncourt/pubmed-rct"
      ],
      "metadata": {
        "colab": {
          "base_uri": "https://localhost:8080/"
        },
        "id": "FQmXI3SOQ5kM",
        "outputId": "e1a68bdf-4c4a-44d9-c390-b3a7cd24f87d"
      },
      "execution_count": 3,
      "outputs": [
        {
          "output_type": "stream",
          "name": "stdout",
          "text": [
            "Cloning into 'pubmed-rct'...\n",
            "remote: Enumerating objects: 33, done.\u001b[K\n",
            "remote: Counting objects: 100% (8/8), done.\u001b[K\n",
            "remote: Compressing objects: 100% (3/3), done.\u001b[K\n",
            "remote: Total 33 (delta 5), reused 5 (delta 5), pack-reused 25\u001b[K\n",
            "Unpacking objects: 100% (33/33), done.\n"
          ]
        }
      ]
    },
    {
      "cell_type": "code",
      "source": [
        "!tail pubmed-rct/PubMed_20k_RCT/test.txt"
      ],
      "metadata": {
        "colab": {
          "base_uri": "https://localhost:8080/"
        },
        "id": "A_-ruyjSRC0h",
        "outputId": "04f09d8d-79ac-484e-f839-9e0d4a411187"
      },
      "execution_count": null,
      "outputs": [
        {
          "output_type": "stream",
          "name": "stdout",
          "text": [
            "METHODS\tBoth were assessed at baseline , 3 weeks , and 6 weeks .\n",
            "METHODS\tTreatment satisfaction was assessed at week 6 .\n",
            "METHODS\tAdverse effects were also monitored .\n",
            "RESULTS\tThere was a statistically significant within-group improvement in VISA-A score for both groups ( standard , P = .03 ; do as tolerated , P < .001 ) and VAS pain for the do-as-tolerated group ( P = .001 ) at week 6 , based on the intention-to-treat analysis .\n",
            "RESULTS\tThere was a statistically significant between-group difference in VISA-A scores at week 3 , based on both the intention-to-treat ( P = .004 ) and per-protocol analyses ( P = .007 ) , partly due to a within-group deterioration at week 3 in the standard group .\n",
            "RESULTS\tThere were no statistically significant between-group differences for VISA-A and VAS pain scores at week 6 , the completion of the intervention .\n",
            "RESULTS\tThere was no significant association between satisfaction and treatment groups at week 6 .\n",
            "RESULTS\tNo adverse effects were reported .\n",
            "CONCLUSIONS\tPerforming a 6-week do-as-tolerated program of eccentric heel-drop exercises , compared to the recommended 180 repetitions per day , did not lead to lesser improvement for individuals with midportion Achilles tendinopathy , based on VISA-A and VAS scores .\n",
            "\n"
          ]
        }
      ]
    },
    {
      "cell_type": "markdown",
      "source": [
        "We'll start the experiments using the small dataset (20k) with the numbers replaced with `'@'`."
      ],
      "metadata": {
        "id": "WMr44qVoVYsl"
      }
    },
    {
      "cell_type": "code",
      "source": [
        "data_dir = 'pubmed-rct/PubMed_20k_RCT_numbers_replaced_with_at_sign/'\n",
        "import os \n",
        "filenames = [data_dir+filename for filename in os.listdir(data_dir)]"
      ],
      "metadata": {
        "id": "52EJl9afVj75"
      },
      "execution_count": 4,
      "outputs": []
    },
    {
      "cell_type": "markdown",
      "source": [
        "## Preprocess data"
      ],
      "metadata": {
        "id": "dX1AGZlWWzyB"
      }
    },
    {
      "cell_type": "code",
      "source": [
        "def get_text(filename):\n",
        "  with open(filename,'r') as f:\n",
        "    return f.readlines()\n",
        "test = get_text(filenames[0])\n",
        "train = get_text(filenames[1])\n",
        "dev = get_text(filenames[2])"
      ],
      "metadata": {
        "id": "rMzVGT6WXE2Z"
      },
      "execution_count": 23,
      "outputs": []
    },
    {
      "cell_type": "markdown",
      "source": [
        "__How can we represent this data?__\n",
        "\n",
        "We can use a dictionary format with the keys: `line_number, target, text`. Our samples will be in a list of dictionaries, one for each line in the text."
      ],
      "metadata": {
        "id": "imSEx31YYiok"
      }
    },
    {
      "cell_type": "code",
      "source": [
        "def get_list_samples(file):\n",
        "  \"\"\"This function receives a written file loaded in memory (i.e. a list of strings). Then it returns the samples in the format required,\n",
        "  if the lines are in the format\n",
        "  SECTION\\t\\PHRASE\\n\n",
        "  It returns a list of dictionaries with the lines preprocessed.\n",
        "  \"\"\"\n",
        "  list_of_samples = []\n",
        "  for line in file:\n",
        "     # Need to filter number of the paper, and empty lines\n",
        "    if line.startswith('###'):\n",
        "      n_line = 0\n",
        "      article_id = line[3:-2]\n",
        "    elif line.startswith('\\n'):pass\n",
        "    else: \n",
        "      # Find the target in the string\n",
        "      index_t = line.index('\\t')\n",
        "      index_n = line.index('\\n')\n",
        "      target = line[:index_t]\n",
        "      text = line[index_t+1:index_n]\n",
        "      n_line += 1\n",
        "      list_of_samples.append({'n_line':n_line,'target':target,\n",
        "                              'text':text,'article_id':article_id})\n",
        "  return list_of_samples"
      ],
      "metadata": {
        "id": "aF6P_PGZZhDA"
      },
      "execution_count": 24,
      "outputs": []
    },
    {
      "cell_type": "code",
      "source": [
        "train_list = get_list_samples(train)\n",
        "test_list = get_list_samples(test)\n",
        "dev_list = get_list_samples(dev)"
      ],
      "metadata": {
        "id": "pBi8e6BnckF8"
      },
      "execution_count": 25,
      "outputs": []
    },
    {
      "cell_type": "code",
      "source": [
        "test_list[:2]"
      ],
      "metadata": {
        "colab": {
          "base_uri": "https://localhost:8080/"
        },
        "id": "-nYC_gyCgF6C",
        "outputId": "bc4d33fe-2f3d-4df9-f487-5f2ed21d363a"
      },
      "execution_count": 8,
      "outputs": [
        {
          "output_type": "execute_result",
          "data": {
            "text/plain": [
              "[{'article_id': '2484596',\n",
              "  'n_line': 1,\n",
              "  'target': 'BACKGROUND',\n",
              "  'text': 'This study analyzed liver function abnormalities in heart failure patients admitted with severe acute decompensated heart failure ( ADHF ) .'},\n",
              " {'article_id': '2484596',\n",
              "  'n_line': 2,\n",
              "  'target': 'RESULTS',\n",
              "  'text': 'A post hoc analysis was conducted with the use of data from the Evaluation Study of Congestive Heart Failure and Pulmonary Artery Catheterization Effectiveness ( ESCAPE ) .'}]"
            ]
          },
          "metadata": {},
          "execution_count": 8
        }
      ]
    },
    {
      "cell_type": "markdown",
      "source": [
        "In this format, we can turn the data into a DataFrame"
      ],
      "metadata": {
        "id": "Gobs3chCgNxp"
      }
    },
    {
      "cell_type": "code",
      "source": [
        "import pandas as pd\n",
        "train = pd.DataFrame(train_list)\n",
        "test = pd.DataFrame(test_list)\n",
        "dev = pd.DataFrame(dev_list)"
      ],
      "metadata": {
        "id": "wUFaZPmXgZLQ"
      },
      "execution_count": 26,
      "outputs": []
    },
    {
      "cell_type": "code",
      "source": [
        "train.head()"
      ],
      "metadata": {
        "colab": {
          "base_uri": "https://localhost:8080/",
          "height": 250
        },
        "id": "sLnXFPblgpyE",
        "outputId": "471107ae-5a2c-4c7b-f159-2240458ca113"
      },
      "execution_count": 30,
      "outputs": [
        {
          "output_type": "execute_result",
          "data": {
            "text/plain": [
              "   n_line     target                                               text  \\\n",
              "0       1  OBJECTIVE  To investigate the efficacy of @ weeks of dail...   \n",
              "1       2    METHODS  A total of @ patients with primary knee OA wer...   \n",
              "2       3    METHODS  Outcome measures included pain reduction and i...   \n",
              "3       4    METHODS  Pain was assessed using the visual analog pain...   \n",
              "4       5    METHODS  Secondary outcome measures included the Wester...   \n",
              "\n",
              "  article_id  \n",
              "0    2429357  \n",
              "1    2429357  \n",
              "2    2429357  \n",
              "3    2429357  \n",
              "4    2429357  "
            ],
            "text/html": [
              "\n",
              "  <div id=\"df-02ba271b-cefc-497f-a1aa-e0d959307e89\">\n",
              "    <div class=\"colab-df-container\">\n",
              "      <div>\n",
              "<style scoped>\n",
              "    .dataframe tbody tr th:only-of-type {\n",
              "        vertical-align: middle;\n",
              "    }\n",
              "\n",
              "    .dataframe tbody tr th {\n",
              "        vertical-align: top;\n",
              "    }\n",
              "\n",
              "    .dataframe thead th {\n",
              "        text-align: right;\n",
              "    }\n",
              "</style>\n",
              "<table border=\"1\" class=\"dataframe\">\n",
              "  <thead>\n",
              "    <tr style=\"text-align: right;\">\n",
              "      <th></th>\n",
              "      <th>n_line</th>\n",
              "      <th>target</th>\n",
              "      <th>text</th>\n",
              "      <th>article_id</th>\n",
              "    </tr>\n",
              "  </thead>\n",
              "  <tbody>\n",
              "    <tr>\n",
              "      <th>0</th>\n",
              "      <td>1</td>\n",
              "      <td>OBJECTIVE</td>\n",
              "      <td>To investigate the efficacy of @ weeks of dail...</td>\n",
              "      <td>2429357</td>\n",
              "    </tr>\n",
              "    <tr>\n",
              "      <th>1</th>\n",
              "      <td>2</td>\n",
              "      <td>METHODS</td>\n",
              "      <td>A total of @ patients with primary knee OA wer...</td>\n",
              "      <td>2429357</td>\n",
              "    </tr>\n",
              "    <tr>\n",
              "      <th>2</th>\n",
              "      <td>3</td>\n",
              "      <td>METHODS</td>\n",
              "      <td>Outcome measures included pain reduction and i...</td>\n",
              "      <td>2429357</td>\n",
              "    </tr>\n",
              "    <tr>\n",
              "      <th>3</th>\n",
              "      <td>4</td>\n",
              "      <td>METHODS</td>\n",
              "      <td>Pain was assessed using the visual analog pain...</td>\n",
              "      <td>2429357</td>\n",
              "    </tr>\n",
              "    <tr>\n",
              "      <th>4</th>\n",
              "      <td>5</td>\n",
              "      <td>METHODS</td>\n",
              "      <td>Secondary outcome measures included the Wester...</td>\n",
              "      <td>2429357</td>\n",
              "    </tr>\n",
              "  </tbody>\n",
              "</table>\n",
              "</div>\n",
              "      <button class=\"colab-df-convert\" onclick=\"convertToInteractive('df-02ba271b-cefc-497f-a1aa-e0d959307e89')\"\n",
              "              title=\"Convert this dataframe to an interactive table.\"\n",
              "              style=\"display:none;\">\n",
              "        \n",
              "  <svg xmlns=\"http://www.w3.org/2000/svg\" height=\"24px\"viewBox=\"0 0 24 24\"\n",
              "       width=\"24px\">\n",
              "    <path d=\"M0 0h24v24H0V0z\" fill=\"none\"/>\n",
              "    <path d=\"M18.56 5.44l.94 2.06.94-2.06 2.06-.94-2.06-.94-.94-2.06-.94 2.06-2.06.94zm-11 1L8.5 8.5l.94-2.06 2.06-.94-2.06-.94L8.5 2.5l-.94 2.06-2.06.94zm10 10l.94 2.06.94-2.06 2.06-.94-2.06-.94-.94-2.06-.94 2.06-2.06.94z\"/><path d=\"M17.41 7.96l-1.37-1.37c-.4-.4-.92-.59-1.43-.59-.52 0-1.04.2-1.43.59L10.3 9.45l-7.72 7.72c-.78.78-.78 2.05 0 2.83L4 21.41c.39.39.9.59 1.41.59.51 0 1.02-.2 1.41-.59l7.78-7.78 2.81-2.81c.8-.78.8-2.07 0-2.86zM5.41 20L4 18.59l7.72-7.72 1.47 1.35L5.41 20z\"/>\n",
              "  </svg>\n",
              "      </button>\n",
              "      \n",
              "  <style>\n",
              "    .colab-df-container {\n",
              "      display:flex;\n",
              "      flex-wrap:wrap;\n",
              "      gap: 12px;\n",
              "    }\n",
              "\n",
              "    .colab-df-convert {\n",
              "      background-color: #E8F0FE;\n",
              "      border: none;\n",
              "      border-radius: 50%;\n",
              "      cursor: pointer;\n",
              "      display: none;\n",
              "      fill: #1967D2;\n",
              "      height: 32px;\n",
              "      padding: 0 0 0 0;\n",
              "      width: 32px;\n",
              "    }\n",
              "\n",
              "    .colab-df-convert:hover {\n",
              "      background-color: #E2EBFA;\n",
              "      box-shadow: 0px 1px 2px rgba(60, 64, 67, 0.3), 0px 1px 3px 1px rgba(60, 64, 67, 0.15);\n",
              "      fill: #174EA6;\n",
              "    }\n",
              "\n",
              "    [theme=dark] .colab-df-convert {\n",
              "      background-color: #3B4455;\n",
              "      fill: #D2E3FC;\n",
              "    }\n",
              "\n",
              "    [theme=dark] .colab-df-convert:hover {\n",
              "      background-color: #434B5C;\n",
              "      box-shadow: 0px 1px 3px 1px rgba(0, 0, 0, 0.15);\n",
              "      filter: drop-shadow(0px 1px 2px rgba(0, 0, 0, 0.3));\n",
              "      fill: #FFFFFF;\n",
              "    }\n",
              "  </style>\n",
              "\n",
              "      <script>\n",
              "        const buttonEl =\n",
              "          document.querySelector('#df-02ba271b-cefc-497f-a1aa-e0d959307e89 button.colab-df-convert');\n",
              "        buttonEl.style.display =\n",
              "          google.colab.kernel.accessAllowed ? 'block' : 'none';\n",
              "\n",
              "        async function convertToInteractive(key) {\n",
              "          const element = document.querySelector('#df-02ba271b-cefc-497f-a1aa-e0d959307e89');\n",
              "          const dataTable =\n",
              "            await google.colab.kernel.invokeFunction('convertToInteractive',\n",
              "                                                     [key], {});\n",
              "          if (!dataTable) return;\n",
              "\n",
              "          const docLinkHtml = 'Like what you see? Visit the ' +\n",
              "            '<a target=\"_blank\" href=https://colab.research.google.com/notebooks/data_table.ipynb>data table notebook</a>'\n",
              "            + ' to learn more about interactive tables.';\n",
              "          element.innerHTML = '';\n",
              "          dataTable['output_type'] = 'display_data';\n",
              "          await google.colab.output.renderOutput(dataTable, element);\n",
              "          const docLink = document.createElement('div');\n",
              "          docLink.innerHTML = docLinkHtml;\n",
              "          element.appendChild(docLink);\n",
              "        }\n",
              "      </script>\n",
              "    </div>\n",
              "  </div>\n",
              "  "
            ]
          },
          "metadata": {},
          "execution_count": 30
        }
      ]
    },
    {
      "cell_type": "code",
      "source": [
        "# Distribution of labels in training data\n",
        "train.target.value_counts()"
      ],
      "metadata": {
        "colab": {
          "base_uri": "https://localhost:8080/"
        },
        "id": "W9OdYieZgxJd",
        "outputId": "108804b4-4ff7-4877-e8e4-b78cdc2a256c"
      },
      "execution_count": null,
      "outputs": [
        {
          "output_type": "execute_result",
          "data": {
            "text/plain": [
              "METHODS        59353\n",
              "RESULTS        57953\n",
              "CONCLUSIONS    27168\n",
              "BACKGROUND     21727\n",
              "OBJECTIVE      13839\n",
              "Name: target, dtype: int64"
            ]
          },
          "metadata": {},
          "execution_count": 11
        }
      ]
    },
    {
      "cell_type": "code",
      "source": [
        "num_classes = len(train.target.value_counts())"
      ],
      "metadata": {
        "id": "rHyA19lVOngM"
      },
      "execution_count": 11,
      "outputs": []
    },
    {
      "cell_type": "code",
      "source": [
        "X_train = train['text'].tolist()\n",
        "X_test = test['text'].tolist()\n",
        "X_dev = dev['text'].tolist()\n",
        "print(len(X_train),len(X_test),len(X_dev))"
      ],
      "metadata": {
        "colab": {
          "base_uri": "https://localhost:8080/"
        },
        "id": "m_ekqvMphFhI",
        "outputId": "b398afcb-8ac2-431b-c6cc-fbe7f324806e"
      },
      "execution_count": 15,
      "outputs": [
        {
          "output_type": "stream",
          "name": "stdout",
          "text": [
            "180040 30135 30212\n"
          ]
        }
      ]
    },
    {
      "cell_type": "code",
      "source": [
        "# One-hot-encoder for the targets\n",
        "from sklearn.preprocessing import OneHotEncoder\n",
        "OHE = OneHotEncoder(sparse=False)\n",
        "OHE.fit(train.target.to_numpy().reshape(-1,1))\n",
        "y_train = OHE.transform(train.target.to_numpy().reshape(-1,1))\n",
        "y_test = OHE.transform(test['target'].to_numpy().reshape(-1,1))\n",
        "y_dev = OHE.transform(dev['target'].to_numpy().reshape(-1,1))\n",
        "for target,number in zip(train.target.tolist()[5:8],y_train[5:8]):\n",
        "  print(target,number)"
      ],
      "metadata": {
        "colab": {
          "base_uri": "https://localhost:8080/"
        },
        "id": "C5cwASW8jmLW",
        "outputId": "c5eb039b-440d-4bcb-b6ba-d0050872d59e"
      },
      "execution_count": 68,
      "outputs": [
        {
          "output_type": "stream",
          "name": "stdout",
          "text": [
            "METHODS [0. 0. 1. 0. 0.]\n",
            "RESULTS [0. 0. 0. 0. 1.]\n",
            "RESULTS [0. 0. 0. 0. 1.]\n"
          ]
        }
      ]
    },
    {
      "cell_type": "markdown",
      "source": [
        "# Starting a series of modelling experiments"
      ],
      "metadata": {
        "id": "3Kv5NKanLbzP"
      }
    },
    {
      "cell_type": "markdown",
      "source": [
        "## Baseline model (SKLearn)"
      ],
      "metadata": {
        "id": "BuMOZ5m5KQHR"
      }
    },
    {
      "cell_type": "code",
      "source": [
        "from sklearn.feature_extraction.text import TfidfVectorizer\n",
        "from sklearn.naive_bayes import MultinomialNB\n",
        "from sklearn.pipeline import Pipeline\n",
        "\n",
        "# Create pipeline\n",
        "model_0 = Pipeline([('tf-idf',TfidfVectorizer()),\n",
        "                    ('clf',MultinomialNB())])\n",
        "\n",
        "# Fit pipeline to the training data\n",
        "model_0.fit(X=X_train,y=y_train.argmax(axis=1))"
      ],
      "metadata": {
        "colab": {
          "base_uri": "https://localhost:8080/"
        },
        "id": "elAFCE0gMAMr",
        "outputId": "780c1d14-42e0-45ec-b790-7556cea98f0b"
      },
      "execution_count": null,
      "outputs": [
        {
          "output_type": "execute_result",
          "data": {
            "text/plain": [
              "Pipeline(steps=[('tf-idf', TfidfVectorizer()), ('clf', MultinomialNB())])"
            ]
          },
          "metadata": {},
          "execution_count": 14
        }
      ]
    },
    {
      "cell_type": "code",
      "source": [
        "#Evaluate on the test dataset\n",
        "print(model_0.score(X=X_test,y=y_test.argmax(axis=1)))\n",
        "# Get predictions for more metrics \n",
        "baseline_predictions = model_0.predict(X_test)"
      ],
      "metadata": {
        "colab": {
          "base_uri": "https://localhost:8080/"
        },
        "id": "Caf4RK5UNjLy",
        "outputId": "eb7b006f-2696-412c-e115-76bd263e890b"
      },
      "execution_count": null,
      "outputs": [
        {
          "output_type": "stream",
          "name": "stdout",
          "text": [
            "0.716674962667994\n"
          ]
        }
      ]
    },
    {
      "cell_type": "code",
      "source": [
        "# Use the helper script for the F1 metrics\n",
        "!wget https://raw.githubusercontent.com/mrdbourke/tensorflow-deep-learning/main/extras/helper_functions.py"
      ],
      "metadata": {
        "id": "zBjU78bMPe6c",
        "colab": {
          "base_uri": "https://localhost:8080/"
        },
        "outputId": "93a4c1ab-2067-4039-dacc-3738530d0172"
      },
      "execution_count": 11,
      "outputs": [
        {
          "output_type": "stream",
          "name": "stdout",
          "text": [
            "--2022-05-31 18:57:40--  https://raw.githubusercontent.com/mrdbourke/tensorflow-deep-learning/main/extras/helper_functions.py\n",
            "Resolving raw.githubusercontent.com (raw.githubusercontent.com)... 185.199.108.133, 185.199.109.133, 185.199.110.133, ...\n",
            "Connecting to raw.githubusercontent.com (raw.githubusercontent.com)|185.199.108.133|:443... connected.\n",
            "HTTP request sent, awaiting response... 200 OK\n",
            "Length: 10246 (10K) [text/plain]\n",
            "Saving to: ‘helper_functions.py’\n",
            "\n",
            "helper_functions.py 100%[===================>]  10.01K  --.-KB/s    in 0.001s  \n",
            "\n",
            "2022-05-31 18:57:40 (15.8 MB/s) - ‘helper_functions.py’ saved [10246/10246]\n",
            "\n"
          ]
        }
      ]
    },
    {
      "cell_type": "code",
      "source": [
        "from helper_functions import calculate_results\n",
        "calculate_results(y_true=y_test.argmax(axis=1),y_pred=baseline_predictions)"
      ],
      "metadata": {
        "colab": {
          "base_uri": "https://localhost:8080/"
        },
        "id": "UeyaKHlxCp6O",
        "outputId": "6c3685ef-0fd0-4a8d-eed5-ac65f3bdeadb"
      },
      "execution_count": null,
      "outputs": [
        {
          "output_type": "execute_result",
          "data": {
            "text/plain": [
              "{'accuracy': 71.6674962667994,\n",
              " 'f1': 0.6925101703856846,\n",
              " 'precision': 0.7124322482375202,\n",
              " 'recall': 0.716674962667994}"
            ]
          },
          "metadata": {},
          "execution_count": 23
        }
      ]
    },
    {
      "cell_type": "markdown",
      "source": [
        "# Deep Learning models\n"
      ],
      "metadata": {
        "id": "5owvb98NDAOS"
      }
    },
    {
      "cell_type": "markdown",
      "source": [
        "## TextVectorizer + Embedding layer"
      ],
      "metadata": {
        "id": "u_EcBCFwKVrj"
      }
    },
    {
      "cell_type": "code",
      "source": [
        "import numpy as np\n",
        "import tensorflow as tf\n",
        "from tensorflow.keras import layers\n",
        "from tensorflow import keras"
      ],
      "metadata": {
        "id": "F6JTCzvGDreH"
      },
      "execution_count": 12,
      "outputs": []
    },
    {
      "cell_type": "code",
      "source": [
        "# Length of sentences we're working with\n",
        "sent_lens = [len(sentence.split()) for sentence in X_train]\n",
        "np.mean(sent_lens),np.std(sent_lens)"
      ],
      "metadata": {
        "colab": {
          "base_uri": "https://localhost:8080/"
        },
        "id": "8eT00zCOEDqD",
        "outputId": "03edb83d-bca9-428f-ba3b-b07fcc7e6f32"
      },
      "execution_count": null,
      "outputs": [
        {
          "output_type": "execute_result",
          "data": {
            "text/plain": [
              "(26.338269273494777, 15.38676065622758)"
            ]
          },
          "metadata": {},
          "execution_count": 12
        }
      ]
    },
    {
      "cell_type": "code",
      "source": [
        "from matplotlib import pyplot as plt\n",
        "plt.hist(sent_lens,bins=30,density=True,cumulative=False)\n",
        "plt.grid()\n",
        "plt.xlabel('Length of sentence');plt.ylabel('Relative freq.')\n",
        "plt.show()"
      ],
      "metadata": {
        "colab": {
          "base_uri": "https://localhost:8080/",
          "height": 279
        },
        "id": "gVLbEXAdEVZc",
        "outputId": "a958c693-7c58-41b5-a21d-2e0a8dd5e6e4"
      },
      "execution_count": null,
      "outputs": [
        {
          "output_type": "display_data",
          "data": {
            "text/plain": [
              "<Figure size 432x288 with 1 Axes>"
            ],
            "image/png": "[encoded data removed]"
          },
          "metadata": {
            "needs_background": "light"
          }
        }
      ]
    },
    {
      "cell_type": "code",
      "source": [
        "# Cumulative probability distribution of the sentences\n",
        "plt.hist(sent_lens,bins=30,density=True,cumulative=True)\n",
        "plt.grid()\n",
        "plt.xlabel('Length of sentence');plt.ylabel('Probability')\n",
        "plt.show()\n",
        "# How long of a sentence covers 99.9% of the examples?\n",
        "# How long is the longest sentence in the training set?\n",
        "int(np.percentile(sent_lens,99.9)), max(sent_lens)"
      ],
      "metadata": {
        "colab": {
          "base_uri": "https://localhost:8080/",
          "height": 296
        },
        "id": "10Cs5LtGE7Ko",
        "outputId": "fe773bf9-21b0-4dd5-ae85-26872c78c357"
      },
      "execution_count": null,
      "outputs": [
        {
          "output_type": "display_data",
          "data": {
            "text/plain": [
              "<Figure size 432x288 with 1 Axes>"
            ],
            "image/png": "[encoded data removed]"
          },
          "metadata": {
            "needs_background": "light"
          }
        },
        {
          "output_type": "execute_result",
          "data": {
            "text/plain": [
              "(122, 296)"
            ]
          },
          "metadata": {},
          "execution_count": 52
        }
      ]
    },
    {
      "cell_type": "code",
      "source": [
        "# Text Vectorization layer\n",
        "len(X_train)\n",
        "# In the paper (https://arxiv.org/pdf/1710.06071v1.pdf), the authors of the dataset state\n",
        "# that the vocabulary length is ~68k\n",
        "max_tokens = 68000\n",
        "\n",
        "text_vectorizer = layers.experimental.preprocessing.TextVectorization(max_tokens,\n",
        "                                                                      output_sequence_length=122)\n",
        "# Adapt to the training sequences\n",
        "text_vectorizer.adapt(X_train)"
      ],
      "metadata": {
        "id": "4Jqcc9_7Fpjp"
      },
      "execution_count": null,
      "outputs": []
    },
    {
      "cell_type": "code",
      "source": [
        "import random\n",
        "random_sentence = random.choice(X_train)\n",
        "print(f'Text:\\n{random_sentence}')\n",
        "print(f'Length of text:{len(random_sentence)}')\n",
        "print(f'Vectorized text:\\n{text_vectorizer([random_sentence])}')"
      ],
      "metadata": {
        "colab": {
          "base_uri": "https://localhost:8080/"
        },
        "id": "v--Hylh7IYTF",
        "outputId": "476c8c01-2cab-49e7-cc9f-bf2b7b779187"
      },
      "execution_count": null,
      "outputs": [
        {
          "output_type": "stream",
          "name": "stdout",
          "text": [
            "Text:\n",
            "It is unclear whether thiazide diuretics ( TZs ) or calcium channel blockers ( CCBs ) are more effective as add-on therapy to angiotensin receptor blockers ( ARBs ) in controlling hypertension .\n",
            "Length of text:194\n",
            "Vectorized text:\n",
            "[[  185    20  1288   180 15354  8477 33458    16   826  7732  3638 23652\n",
            "     58    69   137    25  2040    66     6  3641   746  3638 10873     5\n",
            "   1708   659     0     0     0     0     0     0     0     0     0     0\n",
            "      0     0     0     0     0     0     0     0     0     0     0     0\n",
            "      0     0     0     0     0     0     0     0     0     0     0     0\n",
            "      0     0     0     0     0     0     0     0     0     0     0     0\n",
            "      0     0     0     0     0     0     0     0     0     0     0     0\n",
            "      0     0     0     0     0     0     0     0     0     0     0     0\n",
            "      0     0     0     0     0     0     0     0     0     0     0     0\n",
            "      0     0     0     0     0     0     0     0     0     0     0     0\n",
            "      0     0]]\n"
          ]
        }
      ]
    },
    {
      "cell_type": "code",
      "source": [
        "# Words of our vocabulary\n",
        "text_vocab = text_vectorizer.get_vocabulary()\n",
        "print(f'Number of words in vocab: {len(text_vocab)}')\n",
        "print(f'5 most common words in the vocab: {text_vocab[:5]}')\n",
        "print(f'5 least common words in the vocab: {text_vocab[-5:]}')"
      ],
      "metadata": {
        "colab": {
          "base_uri": "https://localhost:8080/"
        },
        "id": "vv-XeMPuJMCN",
        "outputId": "625aec6f-f53a-44f8-b378-8b75e70ab373"
      },
      "execution_count": null,
      "outputs": [
        {
          "output_type": "stream",
          "name": "stdout",
          "text": [
            "Number of words in vocab: 64841\n",
            "5 most common words in the vocab: ['', '[UNK]', 'the', 'and', 'of']\n",
            "5 least common words in the vocab: ['aainduced', 'aaigroup', 'aachener', 'aachen', 'aaacp']\n"
          ]
        }
      ]
    },
    {
      "cell_type": "code",
      "source": [
        "# Config of the vocabulary\n",
        "text_vectorizer.get_config()"
      ],
      "metadata": {
        "colab": {
          "base_uri": "https://localhost:8080/"
        },
        "id": "njsDIXrSJ5O2",
        "outputId": "48a5a2a1-6246-4801-ba92-1dd3d3641244"
      },
      "execution_count": null,
      "outputs": [
        {
          "output_type": "execute_result",
          "data": {
            "text/plain": [
              "{'batch_input_shape': (None,),\n",
              " 'dtype': 'string',\n",
              " 'idf_weights': None,\n",
              " 'max_tokens': 68000,\n",
              " 'name': 'text_vectorization',\n",
              " 'ngrams': None,\n",
              " 'output_mode': 'int',\n",
              " 'output_sequence_length': 122,\n",
              " 'pad_to_max_tokens': False,\n",
              " 'ragged': False,\n",
              " 'sparse': False,\n",
              " 'split': 'whitespace',\n",
              " 'standardize': 'lower_and_strip_punctuation',\n",
              " 'trainable': True,\n",
              " 'vocabulary': None}"
            ]
          },
          "metadata": {},
          "execution_count": 42
        }
      ]
    },
    {
      "cell_type": "markdown",
      "source": [
        "## Create custom text embedding\n"
      ],
      "metadata": {
        "id": "LVTHvFmdKIxR"
      }
    },
    {
      "cell_type": "code",
      "source": [
        "embedding_layer = layers.Embedding(input_dim=len(text_vocab),\n",
        "                                   output_dim=512,\n",
        "                                   mask_zero=True,\n",
        "                                   name='embedding_layer')"
      ],
      "metadata": {
        "id": "gnzXqN9DKMeW"
      },
      "execution_count": null,
      "outputs": []
    },
    {
      "cell_type": "markdown",
      "source": [
        "## Creating datasets\n",
        "_Loading our data as fast as possible..._"
      ],
      "metadata": {
        "id": "w3vsSzsVLdT3"
      }
    },
    {
      "cell_type": "code",
      "source": [
        "# We'll use the tf.data API\n",
        "train_dataset = tf.data.Dataset.from_tensor_slices((X_train,y_train))\n",
        "test_dataset = tf.data.Dataset.from_tensor_slices((X_test,y_test))\n",
        "dev_dataset = tf.data.Dataset.from_tensor_slices((X_dev,y_dev))\n",
        "\n",
        "train_dataset = train_dataset.batch(32).prefetch(tf.data.AUTOTUNE)\n",
        "test_dataset = test_dataset.batch(32).prefetch(tf.data.AUTOTUNE)\n",
        "dev_dataset = dev_dataset.batch(32).prefetch(tf.data.AUTOTUNE)"
      ],
      "metadata": {
        "id": "keYTpN88L3t8"
      },
      "execution_count": 13,
      "outputs": []
    },
    {
      "cell_type": "markdown",
      "source": [
        "## Model 1: CONV1D + Token Embeddings"
      ],
      "metadata": {
        "id": "9pLkvdXpNhJh"
      }
    },
    {
      "cell_type": "code",
      "source": [
        "# Create model\n",
        "inputs = layers.Input(shape=(1,),dtype='string')\n",
        "x = text_vectorizer(inputs)\n",
        "x = embedding_layer(x)\n",
        "x = layers.Conv1D(128,kernel_size=5,padding='same',activation='relu')(x)\n",
        "x = layers.GlobalAveragePooling1D()(x)\n",
        "outputs = layers.Dense(num_classes,activation='softmax')(x)\n",
        "model_1 = keras.Model(inputs,outputs)\n",
        "# Compile model and summary\n",
        "model_1.compile(loss='categorical_crossentropy',\n",
        "                optimizer='Adam',metrics=['accuracy'])\n",
        "model_1.summary()"
      ],
      "metadata": {
        "colab": {
          "base_uri": "https://localhost:8080/"
        },
        "id": "5PUTDjW6NwZI",
        "outputId": "ca885bf1-7be0-48a6-f5ce-04180dfee165"
      },
      "execution_count": null,
      "outputs": [
        {
          "output_type": "stream",
          "name": "stdout",
          "text": [
            "Model: \"model\"\n",
            "_________________________________________________________________\n",
            " Layer (type)                Output Shape              Param #   \n",
            "=================================================================\n",
            " input_1 (InputLayer)        [(None, 1)]               0         \n",
            "                                                                 \n",
            " text_vectorization (TextVec  (None, 122)              0         \n",
            " torization)                                                     \n",
            "                                                                 \n",
            " embedding_layer (Embedding)  (None, 122, 512)         33198592  \n",
            "                                                                 \n",
            " conv1d (Conv1D)             (None, 122, 128)          327808    \n",
            "                                                                 \n",
            " global_average_pooling1d (G  (None, 128)              0         \n",
            " lobalAveragePooling1D)                                          \n",
            "                                                                 \n",
            " dense (Dense)               (None, 5)                 645       \n",
            "                                                                 \n",
            "=================================================================\n",
            "Total params: 33,527,045\n",
            "Trainable params: 33,527,045\n",
            "Non-trainable params: 0\n",
            "_________________________________________________________________\n"
          ]
        }
      ]
    },
    {
      "cell_type": "code",
      "source": [
        "history_model_1 = model_1.fit(train_dataset,\n",
        "                              epochs=5,\n",
        "                              validation_data=dev_dataset)"
      ],
      "metadata": {
        "colab": {
          "base_uri": "https://localhost:8080/"
        },
        "id": "qwe94kNlPy7p",
        "outputId": "f2133b1c-85eb-4752-fdc4-04302185e658"
      },
      "execution_count": null,
      "outputs": [
        {
          "output_type": "stream",
          "name": "stdout",
          "text": [
            "Epoch 1/5\n",
            "5627/5627 [==============================] - 142s 23ms/step - loss: 0.5985 - accuracy: 0.7825 - val_loss: 0.5306 - val_accuracy: 0.8092\n",
            "Epoch 2/5\n",
            "5627/5627 [==============================] - 130s 23ms/step - loss: 0.4333 - accuracy: 0.8481 - val_loss: 0.5359 - val_accuracy: 0.8099\n",
            "Epoch 3/5\n",
            "5627/5627 [==============================] - 130s 23ms/step - loss: 0.3347 - accuracy: 0.8870 - val_loss: 0.5985 - val_accuracy: 0.8053\n",
            "Epoch 4/5\n",
            "5627/5627 [==============================] - 129s 23ms/step - loss: 0.2501 - accuracy: 0.9190 - val_loss: 0.7097 - val_accuracy: 0.7918\n",
            "Epoch 5/5\n",
            "5627/5627 [==============================] - 129s 23ms/step - loss: 0.1850 - accuracy: 0.9422 - val_loss: 0.8469 - val_accuracy: 0.7815\n"
          ]
        }
      ]
    },
    {
      "cell_type": "markdown",
      "source": [
        "From the 3rd epoch, the model is overfitting..."
      ],
      "metadata": {
        "id": "AtIo4QMGS_4w"
      }
    },
    {
      "cell_type": "markdown",
      "source": [
        "### Using pre trained layers for the 2nd model\n",
        "\n",
        "We'll download the `Universal Sentence Encoder` emmbedding layer, which is available on Tensorflow Hub: https://tfhub.dev/google/universal-sentence-encoder/4"
      ],
      "metadata": {
        "id": "JkzZgSNXTFOW"
      }
    },
    {
      "cell_type": "code",
      "source": [
        "import tensorflow_hub\n",
        "USE_embedding_layer = tensorflow_hub.KerasLayer('https://tfhub.dev/google/universal-sentence-encoder/4',\n",
        "                                                trainable=False,\n",
        "                                                name='USE')"
      ],
      "metadata": {
        "id": "6NrehaGmVYsd"
      },
      "execution_count": 13,
      "outputs": []
    },
    {
      "cell_type": "markdown",
      "source": [
        "## Model 2 : Conv1D + pretrained embedding layer"
      ],
      "metadata": {
        "id": "UFiLyDHbXF0F"
      }
    },
    {
      "cell_type": "code",
      "source": [
        "inputs = layers.Input(shape=[],dtype='string')\n",
        "x = USE_embedding_layer(inputs)\n",
        "x = layers.Dense(128,activation='relu')(x)\n",
        "outputs = layers.Dense(num_classes,activation='softmax')(x)\n",
        "\n",
        "model_2 = keras.Model(inputs,outputs,name='model2_USE')\n",
        "\n",
        "# Compile\n",
        "model_2.compile(loss='categorical_crossentropy',\n",
        "                optimizer='Adam',\n",
        "                metrics=['accuracy'])\n",
        "\n",
        "model_2.summary()"
      ],
      "metadata": {
        "id": "O8VXO14tYHCN",
        "outputId": "150a1387-b15c-48e2-bbc1-25c5b74882e6",
        "colab": {
          "base_uri": "https://localhost:8080/"
        }
      },
      "execution_count": null,
      "outputs": [
        {
          "output_type": "stream",
          "name": "stdout",
          "text": [
            "Model: \"model2_USE\"\n",
            "_________________________________________________________________\n",
            " Layer (type)                Output Shape              Param #   \n",
            "=================================================================\n",
            " input_1 (InputLayer)        [(None,)]                 0         \n",
            "                                                                 \n",
            " USE (KerasLayer)            (None, 512)               256797824 \n",
            "                                                                 \n",
            " dense (Dense)               (None, 128)               65664     \n",
            "                                                                 \n",
            " dense_1 (Dense)             (None, 5)                 645       \n",
            "                                                                 \n",
            "=================================================================\n",
            "Total params: 256,864,133\n",
            "Trainable params: 66,309\n",
            "Non-trainable params: 256,797,824\n",
            "_________________________________________________________________\n"
          ]
        }
      ]
    },
    {
      "cell_type": "code",
      "source": [
        "# Fit\n",
        "history_model_2 = model_2.fit(train_dataset,\n",
        "                              validation_data=dev_dataset,\n",
        "                              epochs=5)"
      ],
      "metadata": {
        "id": "RT99JtAfY2B5",
        "outputId": "34573230-ee36-4e06-add0-3c576132bca0",
        "colab": {
          "base_uri": "https://localhost:8080/"
        }
      },
      "execution_count": null,
      "outputs": [
        {
          "output_type": "stream",
          "name": "stdout",
          "text": [
            "Epoch 1/5\n",
            "5627/5627 [==============================] - 79s 13ms/step - loss: 0.7280 - accuracy: 0.7221 - val_loss: 0.6577 - val_accuracy: 0.7489\n",
            "Epoch 2/5\n",
            "5627/5627 [==============================] - 72s 13ms/step - loss: 0.6360 - accuracy: 0.7590 - val_loss: 0.6225 - val_accuracy: 0.7621\n",
            "Epoch 3/5\n",
            "5627/5627 [==============================] - 70s 12ms/step - loss: 0.6008 - accuracy: 0.7720 - val_loss: 0.6074 - val_accuracy: 0.7683\n",
            "Epoch 4/5\n",
            "5627/5627 [==============================] - 70s 12ms/step - loss: 0.5780 - accuracy: 0.7811 - val_loss: 0.6005 - val_accuracy: 0.7709\n",
            "Epoch 5/5\n",
            "5627/5627 [==============================] - 70s 12ms/step - loss: 0.5612 - accuracy: 0.7880 - val_loss: 0.5980 - val_accuracy: 0.7714\n"
          ]
        }
      ]
    },
    {
      "cell_type": "markdown",
      "source": [
        "### Next step: Character-level embedding"
      ],
      "metadata": {
        "id": "qFQHg8KpZGe-"
      }
    },
    {
      "cell_type": "code",
      "source": [
        "# Make a function to split sentences into characters\n",
        "def split_chars(text):\n",
        "  return ' '.join(list(text))"
      ],
      "metadata": {
        "id": "jAw8k_uua5wF"
      },
      "execution_count": 64,
      "outputs": []
    },
    {
      "cell_type": "code",
      "source": [
        "X_train_chars = [split_chars(sentence) for sentence in X_train]\n",
        "X_test_chars = [split_chars(sentence) for sentence in X_test]\n",
        "X_dev_chars = [split_chars(sentence) for sentence in X_dev]"
      ],
      "metadata": {
        "id": "VuBN1JyHb83B"
      },
      "execution_count": 65,
      "outputs": []
    },
    {
      "cell_type": "code",
      "source": [
        "# Mean character length\n",
        "char_lens = [len(char_sentence) for char_sentence in X_train]\n",
        "np.mean(char_lens)"
      ],
      "metadata": {
        "id": "ph_TSYZvcSQT",
        "outputId": "31be8536-2d3b-4788-8ef8-e83cc7682875",
        "colab": {
          "base_uri": "https://localhost:8080/"
        }
      },
      "execution_count": null,
      "outputs": [
        {
          "output_type": "execute_result",
          "data": {
            "text/plain": [
              "149.3662574983337"
            ]
          },
          "metadata": {},
          "execution_count": 27
        }
      ]
    },
    {
      "cell_type": "code",
      "source": [
        "from matplotlib import pyplot as plt\n",
        "plt.hist(char_lens,bins=30,density=True,cumulative=False)\n",
        "plt.grid()\n",
        "plt.xlabel('Length of sentence in characters');plt.ylabel('Relative freq.')\n",
        "plt.show()"
      ],
      "metadata": {
        "id": "JIBhFA8hcs3w",
        "outputId": "37d9cc45-719a-4ff1-ed9f-850887b5e868",
        "colab": {
          "base_uri": "https://localhost:8080/",
          "height": 279
        }
      },
      "execution_count": null,
      "outputs": [
        {
          "output_type": "display_data",
          "data": {
            "text/plain": [
              "<Figure size 432x288 with 1 Axes>"
            ],
            "image/png": "[encoded data removed]"
          },
          "metadata": {
            "needs_background": "light"
          }
        }
      ]
    },
    {
      "cell_type": "code",
      "source": [
        "# Cumulative probability distribution of the sentences\n",
        "plt.hist(char_lens,bins=30,density=True,cumulative=True)\n",
        "plt.grid()\n",
        "plt.xlabel('Length of sentence in characters');plt.ylabel('Probability')\n",
        "plt.show()\n",
        "# How long of a sentence covers 99.9% of the examples?\n",
        "# How long is the longest sentence in the training set?\n",
        "int(np.percentile(char_lens,99.9)), max(char_lens)"
      ],
      "metadata": {
        "id": "lZBKI0woc2n7",
        "outputId": "ac463918-5bc6-4aa4-c4e2-b65013823918",
        "colab": {
          "base_uri": "https://localhost:8080/",
          "height": 297
        }
      },
      "execution_count": null,
      "outputs": [
        {
          "output_type": "display_data",
          "data": {
            "text/plain": [
              "<Figure size 432x288 with 1 Axes>"
            ],
            "image/png": "[encoded data removed]"
          },
          "metadata": {
            "needs_background": "light"
          }
        },
        {
          "output_type": "execute_result",
          "data": {
            "text/plain": [
              "(577, 1386)"
            ]
          },
          "metadata": {},
          "execution_count": 29
        }
      ]
    },
    {
      "cell_type": "code",
      "source": [
        "import string\n",
        "alphabet = string.ascii_lowercase + string.digits + string.punctuation\n",
        "print(alphabet)\n",
        "NUM_TOKENS = len(alphabet) + 2 # 1 for OOV and ' ' \n",
        "#Create char_level token vectorizer instance\n",
        "char_vectorizer = keras.layers.experimental.preprocessing.TextVectorization(max_tokens=NUM_TOKENS,\n",
        "                                                                            output_sequence_length=577,\n",
        "                                                                            name='char_vectorizer')"
      ],
      "metadata": {
        "id": "H3goH-IadVdw",
        "outputId": "edb15195-fde2-4329-dab5-b2c55183e2f4",
        "colab": {
          "base_uri": "https://localhost:8080/"
        }
      },
      "execution_count": 62,
      "outputs": [
        {
          "output_type": "stream",
          "name": "stdout",
          "text": [
            "abcdefghijklmnopqrstuvwxyz0123456789!\"#$%&'()*+,-./:;<=>?@[\\]^_`{|}~\n"
          ]
        }
      ]
    },
    {
      "cell_type": "code",
      "source": [
        "char_vectorizer.adapt(X_train_chars)"
      ],
      "metadata": {
        "id": "AWJVC5RDecid"
      },
      "execution_count": 66,
      "outputs": []
    },
    {
      "cell_type": "markdown",
      "source": [
        "## Model 3:  Char embedding layer + custom embedding + Conv1D"
      ],
      "metadata": {
        "id": "9jfW0GMUeo_8"
      }
    },
    {
      "cell_type": "code",
      "source": [
        "char_embedding = keras.layers.Embedding(input_dim = len(char_vectorizer.get_vocabulary()),\n",
        "                                        output_dim = 25,\n",
        "                                        mask_zero=True,\n",
        "                                        name='char_embed')"
      ],
      "metadata": {
        "id": "yi9s6dRUfeqh"
      },
      "execution_count": 70,
      "outputs": []
    },
    {
      "cell_type": "code",
      "source": [
        "# Create model\n",
        "inputs = layers.Input(shape=(1,),dtype='string')\n",
        "x = char_vectorizer(inputs)\n",
        "x = char_embedding(x)\n",
        "x = layers.Conv1D(128,kernel_size=8,padding='same',activation='relu')(x)\n",
        "x = layers.GlobalAveragePooling1D()(x)\n",
        "outputs = layers.Dense(num_classes,activation='softmax')(x)\n",
        "\n",
        "model_3 = keras.Model(inputs,outputs,name='model_3_char_embedding')\n",
        "\n",
        "# Compile\n",
        "model_3.compile(loss='categorical_crossentropy',\n",
        "                optimizer='Adam',\n",
        "                metrics=['accuracy'])"
      ],
      "metadata": {
        "id": "8fR_V0T4f_Lk"
      },
      "execution_count": null,
      "outputs": []
    },
    {
      "cell_type": "code",
      "source": [
        "# We need to make the datasets for the chars\n",
        "train_dataset_chars = tf.data.Dataset.from_tensor_slices((X_train_chars,y_train))\n",
        "test_dataset_chars = tf.data.Dataset.from_tensor_slices((X_test_chars,y_test))\n",
        "dev_dataset_chars = tf.data.Dataset.from_tensor_slices((X_dev_chars,y_dev))\n",
        "\n",
        "train_dataset_chars = train_dataset_chars.batch(32).prefetch(tf.data.AUTOTUNE)\n",
        "test_dataset_chars = test_dataset_chars.batch(32).prefetch(tf.data.AUTOTUNE)\n",
        "dev_dataset_chars = dev_dataset_chars.batch(32).prefetch(tf.data.AUTOTUNE)"
      ],
      "metadata": {
        "id": "XJ8dRtAVhC3N"
      },
      "execution_count": null,
      "outputs": []
    },
    {
      "cell_type": "code",
      "source": [
        "model_3_history = model_3.fit(train_dataset_chars,\n",
        "                              epochs=5,\n",
        "                              validation_data=dev_dataset_chars)"
      ],
      "metadata": {
        "id": "x2QOsxNvhhFM",
        "outputId": "9345ad02-8b0b-4293-e15a-a79e49596643",
        "colab": {
          "base_uri": "https://localhost:8080/"
        }
      },
      "execution_count": null,
      "outputs": [
        {
          "output_type": "stream",
          "name": "stdout",
          "text": [
            "Epoch 1/5\n",
            "5627/5627 [==============================] - 45s 6ms/step - loss: 1.3000 - accuracy: 0.4576 - val_loss: 1.2185 - val_accuracy: 0.4998\n",
            "Epoch 2/5\n",
            "5627/5627 [==============================] - 35s 6ms/step - loss: 1.1877 - accuracy: 0.5129 - val_loss: 1.1388 - val_accuracy: 0.5343\n",
            "Epoch 3/5\n",
            "5627/5627 [==============================] - 36s 6ms/step - loss: 1.0966 - accuracy: 0.5558 - val_loss: 1.0414 - val_accuracy: 0.5836\n",
            "Epoch 4/5\n",
            "5627/5627 [==============================] - 35s 6ms/step - loss: 0.9998 - accuracy: 0.6042 - val_loss: 0.9561 - val_accuracy: 0.6219\n",
            "Epoch 5/5\n",
            "5627/5627 [==============================] - 35s 6ms/step - loss: 0.9252 - accuracy: 0.6385 - val_loss: 0.8947 - val_accuracy: 0.6519\n"
          ]
        }
      ]
    },
    {
      "cell_type": "markdown",
      "source": [
        "# Model 4 : Hybrid embedding"
      ],
      "metadata": {
        "id": "GdOJk5RVe9PI"
      }
    },
    {
      "cell_type": "code",
      "source": [
        "# 1. Setup token inputs/model\n",
        "token_inputs = layers.Input(shape=[],dtype='string',name='token_input')\n",
        "token_embeddings = USE_embedding_layer(token_inputs)\n",
        "token_output = layers.Dense(128,activation='relu')(token_embeddings)\n",
        "token_model = keras.Model(token_inputs,token_output)\n",
        "\n",
        "# 2. Setup char inputs/model\n",
        "char_inputs = layers.Input(shape=(1,),dtype='string',name='char_input')\n",
        "char_vectors = char_vectorizer(char_inputs)\n",
        "char_embeddings = char_embedding(char_vectors)\n",
        "char_bi_lstm = layers.Bidirectional(layers.LSTM(32))(char_embeddings) \n",
        "char_model = tf.keras.Model(char_inputs,char_bi_lstm)\n",
        "\n",
        "# 3. Concatenate token and char inputs \n",
        "token_char_concat = layers.Concatenate(name='token_char_hybrid')([token_model.output,\n",
        "                                                                  char_model.output])\n",
        "# 4. Create ouput layers - adding in Dropout\n",
        "combined_dropout = layers.Dropout(0.5)(token_char_concat)\n",
        "combined_dense_layer = layers.Dense(128,activation='relu')(combined_dropout)\n",
        "final_dropout = layers.Dropout(0.5)(combined_dense_layer)\n",
        "output_layer = layers.Dense(num_classes,activation='softmax',name='output_layer')(final_dropout)\n",
        "\n",
        "# 5. Construct model with char and token embeddings\n",
        "model_4 = keras.Model(inputs=[token_model.input,char_model.input],\n",
        "                      outputs=output_layer,\n",
        "                      name='token_and_char_embeddings')"
      ],
      "metadata": {
        "id": "fCy_W9vXe_Rm"
      },
      "execution_count": 76,
      "outputs": []
    },
    {
      "cell_type": "code",
      "source": [
        "model_4.summary()"
      ],
      "metadata": {
        "id": "pstaSrZ8h351",
        "outputId": "833fabbb-c2d1-4cab-8c9f-b90e0abd853c",
        "colab": {
          "base_uri": "https://localhost:8080/"
        }
      },
      "execution_count": 26,
      "outputs": [
        {
          "output_type": "stream",
          "name": "stdout",
          "text": [
            "Model: \"token_and_char_embeddings\"\n",
            "__________________________________________________________________________________________________\n",
            " Layer (type)                   Output Shape         Param #     Connected to                     \n",
            "==================================================================================================\n",
            " char_input (InputLayer)        [(None, 1)]          0           []                               \n",
            "                                                                                                  \n",
            " token_input (InputLayer)       [(None,)]            0           []                               \n",
            "                                                                                                  \n",
            " char_vectorizer (TextVectoriza  (None, 577)         0           ['char_input[0][0]']             \n",
            " tion)                                                                                            \n",
            "                                                                                                  \n",
            " USE (KerasLayer)               (None, 512)          256797824   ['token_input[0][0]']            \n",
            "                                                                                                  \n",
            " char_embed (Embedding)         (None, 577, 25)      700         ['char_vectorizer[1][0]']        \n",
            "                                                                                                  \n",
            " dense_3 (Dense)                (None, 128)          65664       ['USE[1][0]']                    \n",
            "                                                                                                  \n",
            " bidirectional_1 (Bidirectional  (None, 64)          14848       ['char_embed[1][0]']             \n",
            " )                                                                                                \n",
            "                                                                                                  \n",
            " token_char_hybrid (Concatenate  (None, 192)         0           ['dense_3[0][0]',                \n",
            " )                                                                'bidirectional_1[0][0]']        \n",
            "                                                                                                  \n",
            " dropout_2 (Dropout)            (None, 192)          0           ['token_char_hybrid[0][0]']      \n",
            "                                                                                                  \n",
            " dense_4 (Dense)                (None, 128)          24704       ['dropout_2[0][0]']              \n",
            "                                                                                                  \n",
            " dropout_3 (Dropout)            (None, 128)          0           ['dense_4[0][0]']                \n",
            "                                                                                                  \n",
            " output_layer (Dense)           (None, 5)            645         ['dropout_3[0][0]']              \n",
            "                                                                                                  \n",
            "==================================================================================================\n",
            "Total params: 256,904,385\n",
            "Trainable params: 106,561\n",
            "Non-trainable params: 256,797,824\n",
            "__________________________________________________________________________________________________\n"
          ]
        }
      ]
    },
    {
      "cell_type": "code",
      "source": [
        "# Plot hybrid token and char model\n",
        "from keras.utils.vis_utils import plot_model\n",
        "plot_model(model_4,show_shapes=True)"
      ],
      "metadata": {
        "id": "akMGUuIrlLbh",
        "outputId": "728689d1-97f7-4766-915f-2422d834b2cf",
        "colab": {
          "base_uri": "https://localhost:8080/",
          "height": 660
        }
      },
      "execution_count": 77,
      "outputs": [
        {
          "output_type": "execute_result",
          "data": {
            "text/plain": [
              "<IPython.core.display.Image object>"
            ],
            "image/png": "[encoded data removed]"
          },
          "metadata": {},
          "execution_count": 77
        }
      ]
    },
    {
      "cell_type": "code",
      "source": [
        "# Compile token char model \n",
        "model_4.compile(loss='categorical_crossentropy',\n",
        "                optimizer='Adam',\n",
        "                metrics=['accuracy'])"
      ],
      "metadata": {
        "id": "yweecFFnmiD2"
      },
      "execution_count": 34,
      "outputs": []
    },
    {
      "cell_type": "markdown",
      "source": [
        "## A new `tf.Dataset` combining sentences and characters"
      ],
      "metadata": {
        "id": "1f6xOAsCoKqT"
      }
    },
    {
      "cell_type": "code",
      "source": [
        "# Combined datasets for train, test and validation\n",
        "train_combined = tf.data.Dataset.from_tensor_slices((X_train,X_train_chars))\n",
        "train_combined_labels = tf.data.Dataset.from_tensor_slices(y_train)\n",
        "train_combined_dataset = tf.data.Dataset.zip((train_combined,train_combined_labels))\n",
        "\n",
        "dev_combined = tf.data.Dataset.from_tensor_slices((X_dev,X_dev))\n",
        "dev_combined_labels = tf.data.Dataset.from_tensor_slices(y_dev)\n",
        "dev_combined_dataset = tf.data.Dataset.zip((dev_combined,dev_combined_labels))\n",
        "\n",
        "test_combined = tf.data.Dataset.from_tensor_slices((X_test,X_test))\n",
        "test_combined_labels = tf.data.Dataset.from_tensor_slices(y_test)\n",
        "test_combined_dataset = tf.data.Dataset.zip((test_combined,test_combined_labels))\n",
        "\n",
        "# Prefetch and batch\n",
        "train_combined_dataset = train_combined_dataset.batch(32).prefetch(tf.data.AUTOTUNE)\n",
        "dev_combined_dataset = dev_combined_dataset.batch(32).prefetch(tf.data.AUTOTUNE)\n",
        "test_combined_dataset = test_combined_dataset.batch(32).prefetch(tf.data.AUTOTUNE)"
      ],
      "metadata": {
        "id": "PLDlXReWobBU"
      },
      "execution_count": 69,
      "outputs": []
    },
    {
      "cell_type": "code",
      "source": [
        "model_4.fit(train_combined_dataset,\n",
        "            epochs=3,\n",
        "            steps_per_epoch=int(0.25 * len(train_combined_dataset)),\n",
        "            validation_data=dev_combined_dataset)"
      ],
      "metadata": {
        "id": "NzSQl4ESqmWM",
        "outputId": "9bd6dc58-b299-48be-b175-cb2cb211352f",
        "colab": {
          "base_uri": "https://localhost:8080/"
        }
      },
      "execution_count": 36,
      "outputs": [
        {
          "output_type": "stream",
          "name": "stdout",
          "text": [
            "Epoch 1/3\n",
            "1406/1406 [==============================] - 115s 72ms/step - loss: 0.8609 - accuracy: 0.6631 - val_loss: 0.7490 - val_accuracy: 0.7113\n",
            "Epoch 2/3\n",
            "1406/1406 [==============================] - 93s 66ms/step - loss: 0.7481 - accuracy: 0.7129 - val_loss: 0.7092 - val_accuracy: 0.7308\n",
            "Epoch 3/3\n",
            "1406/1406 [==============================] - 98s 70ms/step - loss: 0.7239 - accuracy: 0.7264 - val_loss: 0.6934 - val_accuracy: 0.7282\n"
          ]
        },
        {
          "output_type": "execute_result",
          "data": {
            "text/plain": [
              "<keras.callbacks.History at 0x7fcd019983d0>"
            ]
          },
          "metadata": {},
          "execution_count": 36
        }
      ]
    },
    {
      "cell_type": "markdown",
      "source": [
        "## Model 5 : Adding to Model 4 positional embeddings"
      ],
      "metadata": {
        "id": "oNY5ECmvwnw7"
      }
    },
    {
      "cell_type": "code",
      "source": [
        "train.head()"
      ],
      "metadata": {
        "id": "FGTWtXguwsw6",
        "outputId": "3e66fb19-d654-4ec8-b1e8-9a8235cc659d",
        "colab": {
          "base_uri": "https://localhost:8080/",
          "height": 250
        }
      },
      "execution_count": 31,
      "outputs": [
        {
          "output_type": "execute_result",
          "data": {
            "text/plain": [
              "   n_line     target                                               text  \\\n",
              "0       1  OBJECTIVE  To investigate the efficacy of @ weeks of dail...   \n",
              "1       2    METHODS  A total of @ patients with primary knee OA wer...   \n",
              "2       3    METHODS  Outcome measures included pain reduction and i...   \n",
              "3       4    METHODS  Pain was assessed using the visual analog pain...   \n",
              "4       5    METHODS  Secondary outcome measures included the Wester...   \n",
              "\n",
              "  article_id  \n",
              "0    2429357  \n",
              "1    2429357  \n",
              "2    2429357  \n",
              "3    2429357  \n",
              "4    2429357  "
            ],
            "text/html": [
              "\n",
              "  <div id=\"df-6b7d5889-a9ab-4772-aae6-4964a45297c1\">\n",
              "    <div class=\"colab-df-container\">\n",
              "      <div>\n",
              "<style scoped>\n",
              "    .dataframe tbody tr th:only-of-type {\n",
              "        vertical-align: middle;\n",
              "    }\n",
              "\n",
              "    .dataframe tbody tr th {\n",
              "        vertical-align: top;\n",
              "    }\n",
              "\n",
              "    .dataframe thead th {\n",
              "        text-align: right;\n",
              "    }\n",
              "</style>\n",
              "<table border=\"1\" class=\"dataframe\">\n",
              "  <thead>\n",
              "    <tr style=\"text-align: right;\">\n",
              "      <th></th>\n",
              "      <th>n_line</th>\n",
              "      <th>target</th>\n",
              "      <th>text</th>\n",
              "      <th>article_id</th>\n",
              "    </tr>\n",
              "  </thead>\n",
              "  <tbody>\n",
              "    <tr>\n",
              "      <th>0</th>\n",
              "      <td>1</td>\n",
              "      <td>OBJECTIVE</td>\n",
              "      <td>To investigate the efficacy of @ weeks of dail...</td>\n",
              "      <td>2429357</td>\n",
              "    </tr>\n",
              "    <tr>\n",
              "      <th>1</th>\n",
              "      <td>2</td>\n",
              "      <td>METHODS</td>\n",
              "      <td>A total of @ patients with primary knee OA wer...</td>\n",
              "      <td>2429357</td>\n",
              "    </tr>\n",
              "    <tr>\n",
              "      <th>2</th>\n",
              "      <td>3</td>\n",
              "      <td>METHODS</td>\n",
              "      <td>Outcome measures included pain reduction and i...</td>\n",
              "      <td>2429357</td>\n",
              "    </tr>\n",
              "    <tr>\n",
              "      <th>3</th>\n",
              "      <td>4</td>\n",
              "      <td>METHODS</td>\n",
              "      <td>Pain was assessed using the visual analog pain...</td>\n",
              "      <td>2429357</td>\n",
              "    </tr>\n",
              "    <tr>\n",
              "      <th>4</th>\n",
              "      <td>5</td>\n",
              "      <td>METHODS</td>\n",
              "      <td>Secondary outcome measures included the Wester...</td>\n",
              "      <td>2429357</td>\n",
              "    </tr>\n",
              "  </tbody>\n",
              "</table>\n",
              "</div>\n",
              "      <button class=\"colab-df-convert\" onclick=\"convertToInteractive('df-6b7d5889-a9ab-4772-aae6-4964a45297c1')\"\n",
              "              title=\"Convert this dataframe to an interactive table.\"\n",
              "              style=\"display:none;\">\n",
              "        \n",
              "  <svg xmlns=\"http://www.w3.org/2000/svg\" height=\"24px\"viewBox=\"0 0 24 24\"\n",
              "       width=\"24px\">\n",
              "    <path d=\"M0 0h24v24H0V0z\" fill=\"none\"/>\n",
              "    <path d=\"M18.56 5.44l.94 2.06.94-2.06 2.06-.94-2.06-.94-.94-2.06-.94 2.06-2.06.94zm-11 1L8.5 8.5l.94-2.06 2.06-.94-2.06-.94L8.5 2.5l-.94 2.06-2.06.94zm10 10l.94 2.06.94-2.06 2.06-.94-2.06-.94-.94-2.06-.94 2.06-2.06.94z\"/><path d=\"M17.41 7.96l-1.37-1.37c-.4-.4-.92-.59-1.43-.59-.52 0-1.04.2-1.43.59L10.3 9.45l-7.72 7.72c-.78.78-.78 2.05 0 2.83L4 21.41c.39.39.9.59 1.41.59.51 0 1.02-.2 1.41-.59l7.78-7.78 2.81-2.81c.8-.78.8-2.07 0-2.86zM5.41 20L4 18.59l7.72-7.72 1.47 1.35L5.41 20z\"/>\n",
              "  </svg>\n",
              "      </button>\n",
              "      \n",
              "  <style>\n",
              "    .colab-df-container {\n",
              "      display:flex;\n",
              "      flex-wrap:wrap;\n",
              "      gap: 12px;\n",
              "    }\n",
              "\n",
              "    .colab-df-convert {\n",
              "      background-color: #E8F0FE;\n",
              "      border: none;\n",
              "      border-radius: 50%;\n",
              "      cursor: pointer;\n",
              "      display: none;\n",
              "      fill: #1967D2;\n",
              "      height: 32px;\n",
              "      padding: 0 0 0 0;\n",
              "      width: 32px;\n",
              "    }\n",
              "\n",
              "    .colab-df-convert:hover {\n",
              "      background-color: #E2EBFA;\n",
              "      box-shadow: 0px 1px 2px rgba(60, 64, 67, 0.3), 0px 1px 3px 1px rgba(60, 64, 67, 0.15);\n",
              "      fill: #174EA6;\n",
              "    }\n",
              "\n",
              "    [theme=dark] .colab-df-convert {\n",
              "      background-color: #3B4455;\n",
              "      fill: #D2E3FC;\n",
              "    }\n",
              "\n",
              "    [theme=dark] .colab-df-convert:hover {\n",
              "      background-color: #434B5C;\n",
              "      box-shadow: 0px 1px 3px 1px rgba(0, 0, 0, 0.15);\n",
              "      filter: drop-shadow(0px 1px 2px rgba(0, 0, 0, 0.3));\n",
              "      fill: #FFFFFF;\n",
              "    }\n",
              "  </style>\n",
              "\n",
              "      <script>\n",
              "        const buttonEl =\n",
              "          document.querySelector('#df-6b7d5889-a9ab-4772-aae6-4964a45297c1 button.colab-df-convert');\n",
              "        buttonEl.style.display =\n",
              "          google.colab.kernel.accessAllowed ? 'block' : 'none';\n",
              "\n",
              "        async function convertToInteractive(key) {\n",
              "          const element = document.querySelector('#df-6b7d5889-a9ab-4772-aae6-4964a45297c1');\n",
              "          const dataTable =\n",
              "            await google.colab.kernel.invokeFunction('convertToInteractive',\n",
              "                                                     [key], {});\n",
              "          if (!dataTable) return;\n",
              "\n",
              "          const docLinkHtml = 'Like what you see? Visit the ' +\n",
              "            '<a target=\"_blank\" href=https://colab.research.google.com/notebooks/data_table.ipynb>data table notebook</a>'\n",
              "            + ' to learn more about interactive tables.';\n",
              "          element.innerHTML = '';\n",
              "          dataTable['output_type'] = 'display_data';\n",
              "          await google.colab.output.renderOutput(dataTable, element);\n",
              "          const docLink = document.createElement('div');\n",
              "          docLink.innerHTML = docLinkHtml;\n",
              "          element.appendChild(docLink);\n",
              "        }\n",
              "      </script>\n",
              "    </div>\n",
              "  </div>\n",
              "  "
            ]
          },
          "metadata": {},
          "execution_count": 31
        }
      ]
    },
    {
      "cell_type": "code",
      "source": [
        "# Adding a column with the number of lines in the article\n",
        "train['total_lines'] = train['article_id'].map(train['article_id'].value_counts())\n",
        "test['total_lines'] = test['article_id'].map(test['article_id'].value_counts())\n",
        "dev['total_lines'] = dev['article_id'].map(dev['article_id'].value_counts())"
      ],
      "metadata": {
        "id": "nOf43wVW_Lmu"
      },
      "execution_count": 32,
      "outputs": []
    },
    {
      "cell_type": "code",
      "source": [
        "train.head()"
      ],
      "metadata": {
        "id": "1W7xlEeTBtsG",
        "outputId": "f0280e83-0047-44c7-ac8d-1c07728f7c25",
        "colab": {
          "base_uri": "https://localhost:8080/",
          "height": 337
        }
      },
      "execution_count": 34,
      "outputs": [
        {
          "output_type": "execute_result",
          "data": {
            "text/plain": [
              "   n_line     target                                               text  \\\n",
              "0       1  OBJECTIVE  To investigate the efficacy of @ weeks of dail...   \n",
              "1       2    METHODS  A total of @ patients with primary knee OA wer...   \n",
              "2       3    METHODS  Outcome measures included pain reduction and i...   \n",
              "3       4    METHODS  Pain was assessed using the visual analog pain...   \n",
              "4       5    METHODS  Secondary outcome measures included the Wester...   \n",
              "\n",
              "  article_id  total_lines  \n",
              "0    2429357           12  \n",
              "1    2429357           12  \n",
              "2    2429357           12  \n",
              "3    2429357           12  \n",
              "4    2429357           12  "
            ],
            "text/html": [
              "\n",
              "  <div id=\"df-dd31f7af-ac9b-4b5b-af95-1c7ecae61d45\">\n",
              "    <div class=\"colab-df-container\">\n",
              "      <div>\n",
              "<style scoped>\n",
              "    .dataframe tbody tr th:only-of-type {\n",
              "        vertical-align: middle;\n",
              "    }\n",
              "\n",
              "    .dataframe tbody tr th {\n",
              "        vertical-align: top;\n",
              "    }\n",
              "\n",
              "    .dataframe thead th {\n",
              "        text-align: right;\n",
              "    }\n",
              "</style>\n",
              "<table border=\"1\" class=\"dataframe\">\n",
              "  <thead>\n",
              "    <tr style=\"text-align: right;\">\n",
              "      <th></th>\n",
              "      <th>n_line</th>\n",
              "      <th>target</th>\n",
              "      <th>text</th>\n",
              "      <th>article_id</th>\n",
              "      <th>total_lines</th>\n",
              "    </tr>\n",
              "  </thead>\n",
              "  <tbody>\n",
              "    <tr>\n",
              "      <th>0</th>\n",
              "      <td>1</td>\n",
              "      <td>OBJECTIVE</td>\n",
              "      <td>To investigate the efficacy of @ weeks of dail...</td>\n",
              "      <td>2429357</td>\n",
              "      <td>12</td>\n",
              "    </tr>\n",
              "    <tr>\n",
              "      <th>1</th>\n",
              "      <td>2</td>\n",
              "      <td>METHODS</td>\n",
              "      <td>A total of @ patients with primary knee OA wer...</td>\n",
              "      <td>2429357</td>\n",
              "      <td>12</td>\n",
              "    </tr>\n",
              "    <tr>\n",
              "      <th>2</th>\n",
              "      <td>3</td>\n",
              "      <td>METHODS</td>\n",
              "      <td>Outcome measures included pain reduction and i...</td>\n",
              "      <td>2429357</td>\n",
              "      <td>12</td>\n",
              "    </tr>\n",
              "    <tr>\n",
              "      <th>3</th>\n",
              "      <td>4</td>\n",
              "      <td>METHODS</td>\n",
              "      <td>Pain was assessed using the visual analog pain...</td>\n",
              "      <td>2429357</td>\n",
              "      <td>12</td>\n",
              "    </tr>\n",
              "    <tr>\n",
              "      <th>4</th>\n",
              "      <td>5</td>\n",
              "      <td>METHODS</td>\n",
              "      <td>Secondary outcome measures included the Wester...</td>\n",
              "      <td>2429357</td>\n",
              "      <td>12</td>\n",
              "    </tr>\n",
              "  </tbody>\n",
              "</table>\n",
              "</div>\n",
              "      <button class=\"colab-df-convert\" onclick=\"convertToInteractive('df-dd31f7af-ac9b-4b5b-af95-1c7ecae61d45')\"\n",
              "              title=\"Convert this dataframe to an interactive table.\"\n",
              "              style=\"display:none;\">\n",
              "        \n",
              "  <svg xmlns=\"http://www.w3.org/2000/svg\" height=\"24px\"viewBox=\"0 0 24 24\"\n",
              "       width=\"24px\">\n",
              "    <path d=\"M0 0h24v24H0V0z\" fill=\"none\"/>\n",
              "    <path d=\"M18.56 5.44l.94 2.06.94-2.06 2.06-.94-2.06-.94-.94-2.06-.94 2.06-2.06.94zm-11 1L8.5 8.5l.94-2.06 2.06-.94-2.06-.94L8.5 2.5l-.94 2.06-2.06.94zm10 10l.94 2.06.94-2.06 2.06-.94-2.06-.94-.94-2.06-.94 2.06-2.06.94z\"/><path d=\"M17.41 7.96l-1.37-1.37c-.4-.4-.92-.59-1.43-.59-.52 0-1.04.2-1.43.59L10.3 9.45l-7.72 7.72c-.78.78-.78 2.05 0 2.83L4 21.41c.39.39.9.59 1.41.59.51 0 1.02-.2 1.41-.59l7.78-7.78 2.81-2.81c.8-.78.8-2.07 0-2.86zM5.41 20L4 18.59l7.72-7.72 1.47 1.35L5.41 20z\"/>\n",
              "  </svg>\n",
              "      </button>\n",
              "      \n",
              "  <style>\n",
              "    .colab-df-container {\n",
              "      display:flex;\n",
              "      flex-wrap:wrap;\n",
              "      gap: 12px;\n",
              "    }\n",
              "\n",
              "    .colab-df-convert {\n",
              "      background-color: #E8F0FE;\n",
              "      border: none;\n",
              "      border-radius: 50%;\n",
              "      cursor: pointer;\n",
              "      display: none;\n",
              "      fill: #1967D2;\n",
              "      height: 32px;\n",
              "      padding: 0 0 0 0;\n",
              "      width: 32px;\n",
              "    }\n",
              "\n",
              "    .colab-df-convert:hover {\n",
              "      background-color: #E2EBFA;\n",
              "      box-shadow: 0px 1px 2px rgba(60, 64, 67, 0.3), 0px 1px 3px 1px rgba(60, 64, 67, 0.15);\n",
              "      fill: #174EA6;\n",
              "    }\n",
              "\n",
              "    [theme=dark] .colab-df-convert {\n",
              "      background-color: #3B4455;\n",
              "      fill: #D2E3FC;\n",
              "    }\n",
              "\n",
              "    [theme=dark] .colab-df-convert:hover {\n",
              "      background-color: #434B5C;\n",
              "      box-shadow: 0px 1px 3px 1px rgba(0, 0, 0, 0.15);\n",
              "      filter: drop-shadow(0px 1px 2px rgba(0, 0, 0, 0.3));\n",
              "      fill: #FFFFFF;\n",
              "    }\n",
              "  </style>\n",
              "\n",
              "      <script>\n",
              "        const buttonEl =\n",
              "          document.querySelector('#df-dd31f7af-ac9b-4b5b-af95-1c7ecae61d45 button.colab-df-convert');\n",
              "        buttonEl.style.display =\n",
              "          google.colab.kernel.accessAllowed ? 'block' : 'none';\n",
              "\n",
              "        async function convertToInteractive(key) {\n",
              "          const element = document.querySelector('#df-dd31f7af-ac9b-4b5b-af95-1c7ecae61d45');\n",
              "          const dataTable =\n",
              "            await google.colab.kernel.invokeFunction('convertToInteractive',\n",
              "                                                     [key], {});\n",
              "          if (!dataTable) return;\n",
              "\n",
              "          const docLinkHtml = 'Like what you see? Visit the ' +\n",
              "            '<a target=\"_blank\" href=https://colab.research.google.com/notebooks/data_table.ipynb>data table notebook</a>'\n",
              "            + ' to learn more about interactive tables.';\n",
              "          element.innerHTML = '';\n",
              "          dataTable['output_type'] = 'display_data';\n",
              "          await google.colab.output.renderOutput(dataTable, element);\n",
              "          const docLink = document.createElement('div');\n",
              "          docLink.innerHTML = docLinkHtml;\n",
              "          element.appendChild(docLink);\n",
              "        }\n",
              "      </script>\n",
              "    </div>\n",
              "  </div>\n",
              "  "
            ]
          },
          "metadata": {},
          "execution_count": 34
        }
      ]
    },
    {
      "cell_type": "code",
      "source": [
        "# An histogram for the n_line column\n",
        "train.n_line.plot.hist(bins=16)"
      ],
      "metadata": {
        "id": "TenSIttPChlH",
        "outputId": "11933e8a-d34b-47f7-f320-0c270b68ecf7",
        "colab": {
          "base_uri": "https://localhost:8080/",
          "height": 282
        }
      },
      "execution_count": 58,
      "outputs": [
        {
          "output_type": "execute_result",
          "data": {
            "text/plain": [
              "<matplotlib.axes._subplots.AxesSubplot at 0x7f37a316f890>"
            ]
          },
          "metadata": {},
          "execution_count": 58
        },
        {
          "output_type": "display_data",
          "data": {
            "text/plain": [
              "<Figure size 432x288 with 1 Axes>"
            ],
            "image/png": "[encoded data removed]"
          },
          "metadata": {
            "needs_background": "light"
          }
        }
      ]
    },
    {
      "cell_type": "code",
      "source": [
        "# An histogram for the n_line column\n",
        "train.article_id.value_counts().plot.hist(bins=16)"
      ],
      "metadata": {
        "id": "kE6dx-DEHIbv",
        "outputId": "fd6fe3ee-97aa-4662-b7b3-deffcbf90053",
        "colab": {
          "base_uri": "https://localhost:8080/",
          "height": 282
        }
      },
      "execution_count": 59,
      "outputs": [
        {
          "output_type": "execute_result",
          "data": {
            "text/plain": [
              "<matplotlib.axes._subplots.AxesSubplot at 0x7f37a8db9210>"
            ]
          },
          "metadata": {},
          "execution_count": 59
        },
        {
          "output_type": "display_data",
          "data": {
            "text/plain": [
              "<Figure size 432x288 with 1 Axes>"
            ],
            "image/png": "[encoded data removed]"
          },
          "metadata": {
            "needs_background": "light"
          }
        }
      ]
    },
    {
      "cell_type": "code",
      "source": [
        "# A percentile checking for the depth in the one-hot encoding\n",
        "np.percentile(train.article_id.value_counts().to_numpy(),98)\n",
        "# With a depth of 32, we're ok with almost a 98% of the samples"
      ],
      "metadata": {
        "id": "uwAgf59HHRjZ",
        "outputId": "a789171f-46d7-4f69-8aad-295e1ca75a7c",
        "colab": {
          "base_uri": "https://localhost:8080/"
        }
      },
      "execution_count": 61,
      "outputs": [
        {
          "output_type": "execute_result",
          "data": {
            "text/plain": [
              "34.0"
            ]
          },
          "metadata": {},
          "execution_count": 61
        }
      ]
    },
    {
      "cell_type": "code",
      "source": [
        "# One hot encoding for the n_line column\n",
        "train_n_line_OH = tf.one_hot(train.n_line.to_numpy(),depth=32)\n",
        "test_n_line_OH = tf.one_hot(test.n_line.to_numpy(),depth=32)\n",
        "dev_n_line_OH = tf.one_hot(dev.n_line.to_numpy(),depth=32)"
      ],
      "metadata": {
        "id": "VDPgTeTkDUNc"
      },
      "execution_count": 54,
      "outputs": []
    },
    {
      "cell_type": "code",
      "source": [
        "# For the total lines, another histogram\n",
        "train_total_lines_OH = tf.one_hot(train['total_lines'].to_numpy(),depth=32)\n",
        "test_total_lines_OH = tf.one_hot(test['total_lines'].to_numpy(),depth=32)\n",
        "dev_total_lines_OH = tf.one_hot(dev['total_lines'].to_numpy(),depth=32)"
      ],
      "metadata": {
        "id": "nM0RXIbSEAkk"
      },
      "execution_count": 55,
      "outputs": []
    },
    {
      "cell_type": "code",
      "source": [
        "train_total_lines_OH[0]"
      ],
      "metadata": {
        "id": "13M34E7oKb9A",
        "outputId": "2f4a8bcb-e1fd-425a-ffa8-ddf7dae2d001",
        "colab": {
          "base_uri": "https://localhost:8080/"
        }
      },
      "execution_count": 71,
      "outputs": [
        {
          "output_type": "execute_result",
          "data": {
            "text/plain": [
              "<tf.Tensor: shape=(32,), dtype=float32, numpy=\n",
              "array([0., 0., 0., 0., 0., 0., 0., 0., 0., 0., 0., 0., 1., 0., 0., 0., 0.,\n",
              "       0., 0., 0., 0., 0., 0., 0., 0., 0., 0., 0., 0., 0., 0., 0.],\n",
              "      dtype=float32)>"
            ]
          },
          "metadata": {},
          "execution_count": 71
        }
      ]
    },
    {
      "cell_type": "markdown",
      "source": [
        "## Building "
      ],
      "metadata": {
        "id": "BqCqEQ_8GKpU"
      }
    },
    {
      "cell_type": "code",
      "source": [
        "# 1. Token inputs\n",
        "token_inputs = layers.Input(shape=[],dtype='string',name='token_inputs')\n",
        "token_embeddings = USE_embedding_layer(token_inputs)\n",
        "token_outputs = layers.Dense(128,activation='relu')(token_embeddings)\n",
        "token_model = keras.Model(token_inputs,token_outputs)\n",
        "\n",
        "# 2. Char inputs\n",
        "char_inputs = layers.Input(shape=(1,),dtype='string',name='char_inputs')\n",
        "char_vectors = char_vectorizer(char_inputs)\n",
        "char_embeddings = char_embedding(char_vectors)\n",
        "char_bi_lstm = layers.Bidirectional(layers.LSTM(32))(char_embeddings)\n",
        "char_model = keras.Model(char_inputs,char_bi_lstm)\n",
        "\n",
        "# 3. Line numbers model\n",
        "n_line_input = layers.Input(shape=(32,),name='n_line_input')\n",
        "n_line_layer1 = layers.Dense(32,activation='relu')(n_line_input)\n",
        "n_line_model = keras.Model(n_line_input,n_line_layer1)\n",
        "\n",
        "# 4. Total lines model\n",
        "total_lines_input = layers.Input(shape=(32,),name='total_lines_input')\n",
        "total_lines_layer1 = layers.Dense(32,activation='relu')(total_lines_input)\n",
        "total_lines_model = keras.Model(total_lines_input,total_lines_layer1)\n",
        "\n",
        "# 5. Combine token and char embeddings into a hybrid embedding\n",
        "combined_embeddings = layers.Concatenate(name='char_token_embedding')([token_model.output,char_model.output])\n",
        "dense_layer1 = layers.Dense(256,activation='relu')(combined_embeddings)\n",
        "dropout_layer1 = layers.Dropout(0.5)(dense_layer1)\n",
        "# 6. Combine positional embeddings with combined and char embeddings\n",
        "final_embeddings = layers.Concatenate(name='all_embeddings')([n_line_model.output,total_lines_model.output,dropout_layer1])\n",
        "dense_layer2 = layers.Dense(256,activation='relu')(final_embeddings)\n",
        "dropout_layer2 = layers.Dropout(0.5)(dense_layer2)\n",
        "\n",
        "output_layer = layers.Dense(5,activation='softmax')(dropout_layer2)\n",
        "\n",
        "model_5 = keras.Model([token_model.input,char_model.input,\n",
        "                       n_line_model.input,total_lines_model.input],\n",
        "                      output_layer)"
      ],
      "metadata": {
        "id": "TS5BPTvIGTjX"
      },
      "execution_count": 73,
      "outputs": []
    },
    {
      "cell_type": "code",
      "source": [
        "plot_model(model_5,show_shapes=True)"
      ],
      "metadata": {
        "id": "u2n7Wz9OMrXn",
        "outputId": "43e79c25-c55e-4a1e-f63c-beb13d6ec6f4",
        "colab": {
          "base_uri": "https://localhost:8080/",
          "height": 478
        }
      },
      "execution_count": 79,
      "outputs": [
        {
          "output_type": "execute_result",
          "data": {
            "text/plain": [
              "<IPython.core.display.Image object>"
            ],
            "image/png": "[encoded data removed]"
          },
          "metadata": {},
          "execution_count": 79
        }
      ]
    },
    {
      "cell_type": "code",
      "source": [
        "model_5.summary()"
      ],
      "metadata": {
        "id": "jq6pef_PNH6f",
        "outputId": "468d4673-fdc1-4efa-8a90-cf6bbe66213d",
        "colab": {
          "base_uri": "https://localhost:8080/"
        }
      },
      "execution_count": 80,
      "outputs": [
        {
          "output_type": "stream",
          "name": "stdout",
          "text": [
            "Model: \"model_4\"\n",
            "__________________________________________________________________________________________________\n",
            " Layer (type)                   Output Shape         Param #     Connected to                     \n",
            "==================================================================================================\n",
            " char_inputs (InputLayer)       [(None, 1)]          0           []                               \n",
            "                                                                                                  \n",
            " token_inputs (InputLayer)      [(None,)]            0           []                               \n",
            "                                                                                                  \n",
            " char_vectorizer (TextVectoriza  (None, 577)         0           ['char_inputs[0][0]']            \n",
            " tion)                                                                                            \n",
            "                                                                                                  \n",
            " USE (KerasLayer)               (None, 512)          256797824   ['token_inputs[0][0]']           \n",
            "                                                                                                  \n",
            " char_embed (Embedding)         (None, 577, 25)      700         ['char_vectorizer[0][0]']        \n",
            "                                                                                                  \n",
            " dense (Dense)                  (None, 128)          65664       ['USE[0][0]']                    \n",
            "                                                                                                  \n",
            " bidirectional (Bidirectional)  (None, 64)           14848       ['char_embed[0][0]']             \n",
            "                                                                                                  \n",
            " char_token_embedding (Concaten  (None, 192)         0           ['dense[0][0]',                  \n",
            " ate)                                                             'bidirectional[0][0]']          \n",
            "                                                                                                  \n",
            " n_line_input (InputLayer)      [(None, 32)]         0           []                               \n",
            "                                                                                                  \n",
            " total_lines_input (InputLayer)  [(None, 32)]        0           []                               \n",
            "                                                                                                  \n",
            " dense_3 (Dense)                (None, 256)          49408       ['char_token_embedding[0][0]']   \n",
            "                                                                                                  \n",
            " dense_1 (Dense)                (None, 32)           1056        ['n_line_input[0][0]']           \n",
            "                                                                                                  \n",
            " dense_2 (Dense)                (None, 32)           1056        ['total_lines_input[0][0]']      \n",
            "                                                                                                  \n",
            " dropout (Dropout)              (None, 256)          0           ['dense_3[0][0]']                \n",
            "                                                                                                  \n",
            " all_embeddings (Concatenate)   (None, 320)          0           ['dense_1[0][0]',                \n",
            "                                                                  'dense_2[0][0]',                \n",
            "                                                                  'dropout[0][0]']                \n",
            "                                                                                                  \n",
            " dense_4 (Dense)                (None, 256)          82176       ['all_embeddings[0][0]']         \n",
            "                                                                                                  \n",
            " dropout_1 (Dropout)            (None, 256)          0           ['dense_4[0][0]']                \n",
            "                                                                                                  \n",
            " dense_5 (Dense)                (None, 5)            1285        ['dropout_1[0][0]']              \n",
            "                                                                                                  \n",
            "==================================================================================================\n",
            "Total params: 257,014,017\n",
            "Trainable params: 216,193\n",
            "Non-trainable params: 256,797,824\n",
            "__________________________________________________________________________________________________\n"
          ]
        }
      ]
    },
    {
      "cell_type": "code",
      "source": [
        "# Compile model 5 with label_smoothing (see https://towardsdatascience.com/what-is-label-smoothing-108debd7ef06)\n",
        "model_5.compile(loss=keras.losses.CategoricalCrossentropy(label_smoothing=0.2),\n",
        "                optimizer='Adam',\n",
        "                metrics=['accuracy'])\n"
      ],
      "metadata": {
        "id": "mTz_r18QNO6a"
      },
      "execution_count": 81,
      "outputs": []
    },
    {
      "cell_type": "code",
      "source": [
        "# Setting the datasets\n",
        "# Combined datasets for train, test and validation\n",
        "train_combined = tf.data.Dataset.from_tensor_slices((X_train,X_train_chars,train_n_line_OH,train_total_lines_OH))\n",
        "train_combined_labels = tf.data.Dataset.from_tensor_slices(y_train)\n",
        "train_combined_dataset = tf.data.Dataset.zip((train_combined,train_combined_labels))\n",
        "\n",
        "dev_combined = tf.data.Dataset.from_tensor_slices((X_dev,X_dev,dev_n_line_OH,dev_total_lines_OH))\n",
        "dev_combined_labels = tf.data.Dataset.from_tensor_slices(y_dev)\n",
        "dev_combined_dataset = tf.data.Dataset.zip((dev_combined,dev_combined_labels))\n",
        "\n",
        "test_combined = tf.data.Dataset.from_tensor_slices((X_test,X_test,test_n_line_OH,test_total_lines_OH))\n",
        "test_combined_labels = tf.data.Dataset.from_tensor_slices(y_test)\n",
        "test_combined_dataset = tf.data.Dataset.zip((test_combined,test_combined_labels))\n",
        "\n",
        "# Prefetch and batch\n",
        "train_combined_dataset = train_combined_dataset.batch(32).prefetch(tf.data.AUTOTUNE)\n",
        "dev_combined_dataset = dev_combined_dataset.batch(32).prefetch(tf.data.AUTOTUNE)\n",
        "test_combined_dataset = test_combined_dataset.batch(32).prefetch(tf.data.AUTOTUNE)"
      ],
      "metadata": {
        "id": "D7OVeV96Opsh"
      },
      "execution_count": 82,
      "outputs": []
    },
    {
      "cell_type": "code",
      "source": [
        "# Skimlit ready for training!!\n",
        "model_5.fit(train_combined_dataset,\n",
        "            epochs=3,\n",
        "            validation_data=dev_combined_dataset)"
      ],
      "metadata": {
        "id": "6_dqGZqLPMxx",
        "outputId": "80ddc644-73bf-41d7-a4e6-f8502bf6ffad",
        "colab": {
          "base_uri": "https://localhost:8080/"
        }
      },
      "execution_count": 83,
      "outputs": [
        {
          "output_type": "stream",
          "name": "stdout",
          "text": [
            "Epoch 1/3\n",
            "5627/5627 [==============================] - 346s 57ms/step - loss: 0.9414 - accuracy: 0.8239 - val_loss: 0.8949 - val_accuracy: 0.8381\n",
            "Epoch 2/3\n",
            "5627/5627 [==============================] - 301s 53ms/step - loss: 0.8968 - accuracy: 0.8551 - val_loss: 0.8896 - val_accuracy: 0.8431\n",
            "Epoch 3/3\n",
            "5627/5627 [==============================] - 304s 54ms/step - loss: 0.8829 - accuracy: 0.8658 - val_loss: 0.8853 - val_accuracy: 0.8467\n"
          ]
        },
        {
          "output_type": "execute_result",
          "data": {
            "text/plain": [
              "<keras.callbacks.History at 0x7f3605c4be90>"
            ]
          },
          "metadata": {},
          "execution_count": 83
        }
      ]
    }
  ]
}