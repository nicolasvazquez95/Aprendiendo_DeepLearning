{
  "nbformat": 4,
  "nbformat_minor": 0,
  "metadata": {
    "colab": {
      "name": "02_SkimLit_NLP.ipynb",
      "provenance": [],
      "authorship_tag": "ABX9TyOW1z3vTimS8HY7yYBoAOvJ",
      "include_colab_link": true
    },
    "kernelspec": {
      "name": "python3",
      "display_name": "Python 3"
    },
    "language_info": {
      "name": "python"
    },
    "accelerator": "GPU"
  },
  "cells": [
    {
      "cell_type": "markdown",
      "metadata": {
        "id": "view-in-github",
        "colab_type": "text"
      },
      "source": [
        "<a href=\"https://colab.research.google.com/github/nicolasvazquez95/Aprendiendo_DeepLearning/blob/main/projects/02_SkimLit_NLP.ipynb\" target=\"_parent\"><img src=\"https://colab.research.google.com/assets/colab-badge.svg\" alt=\"Open In Colab\"/></a>"
      ]
    },
    {
      "cell_type": "markdown",
      "source": [
        "# SkimLit\n",
        "\n",
        "The purpose of this notebook is to build an NLP model to make reading medical abstracts easier.\n",
        "\n",
        "The paper we're replicating (the source of the dataset that we'll be using) is available in [arXiv](https://arxiv.org/abs/1710.06071).\n",
        "\n",
        "The model architecture that they use is available here: https://arxiv.org/abs/1612.05251\n"
      ],
      "metadata": {
        "id": "7h01gRjoCEux"
      }
    },
    {
      "cell_type": "markdown",
      "source": [
        "## Confirm access to a GPU"
      ],
      "metadata": {
        "id": "eMK6_I-DQCET"
      }
    },
    {
      "cell_type": "code",
      "source": [
        "!nvidia-smi -L"
      ],
      "metadata": {
        "colab": {
          "base_uri": "https://localhost:8080/"
        },
        "id": "KcRoRMJYQlsh",
        "outputId": "b878ebd4-02c2-4a24-82c6-4c8839c0b6da"
      },
      "execution_count": 2,
      "outputs": [
        {
          "output_type": "stream",
          "name": "stdout",
          "text": [
            "GPU 0: Tesla T4 (UUID: GPU-d6f2ca91-df58-6eb8-91eb-8ed278a84869)\n"
          ]
        }
      ]
    },
    {
      "cell_type": "markdown",
      "source": [
        "## Get data\n",
        "Let's download the dataset they used. It's freely available in GitHub"
      ],
      "metadata": {
        "id": "3sN79ft8QmIv"
      }
    },
    {
      "cell_type": "code",
      "source": [
        "!git clone https://github.com/Franck-Dernoncourt/pubmed-rct"
      ],
      "metadata": {
        "colab": {
          "base_uri": "https://localhost:8080/"
        },
        "id": "FQmXI3SOQ5kM",
        "outputId": "a3772431-4e31-4792-9cbc-49f958c088c7"
      },
      "execution_count": 3,
      "outputs": [
        {
          "output_type": "stream",
          "name": "stdout",
          "text": [
            "Cloning into 'pubmed-rct'...\n",
            "remote: Enumerating objects: 33, done.\u001b[K\n",
            "remote: Counting objects: 100% (8/8), done.\u001b[K\n",
            "remote: Compressing objects: 100% (3/3), done.\u001b[K\n",
            "remote: Total 33 (delta 5), reused 5 (delta 5), pack-reused 25\u001b[K\n",
            "Unpacking objects: 100% (33/33), done.\n"
          ]
        }
      ]
    },
    {
      "cell_type": "code",
      "source": [
        "!tail pubmed-rct/PubMed_20k_RCT/test.txt"
      ],
      "metadata": {
        "colab": {
          "base_uri": "https://localhost:8080/"
        },
        "id": "A_-ruyjSRC0h",
        "outputId": "fbdc5e85-9fef-449c-db30-85b2d12aabda"
      },
      "execution_count": 5,
      "outputs": [
        {
          "output_type": "stream",
          "name": "stdout",
          "text": [
            "METHODS\tBoth were assessed at baseline , 3 weeks , and 6 weeks .\n",
            "METHODS\tTreatment satisfaction was assessed at week 6 .\n",
            "METHODS\tAdverse effects were also monitored .\n",
            "RESULTS\tThere was a statistically significant within-group improvement in VISA-A score for both groups ( standard , P = .03 ; do as tolerated , P < .001 ) and VAS pain for the do-as-tolerated group ( P = .001 ) at week 6 , based on the intention-to-treat analysis .\n",
            "RESULTS\tThere was a statistically significant between-group difference in VISA-A scores at week 3 , based on both the intention-to-treat ( P = .004 ) and per-protocol analyses ( P = .007 ) , partly due to a within-group deterioration at week 3 in the standard group .\n",
            "RESULTS\tThere were no statistically significant between-group differences for VISA-A and VAS pain scores at week 6 , the completion of the intervention .\n",
            "RESULTS\tThere was no significant association between satisfaction and treatment groups at week 6 .\n",
            "RESULTS\tNo adverse effects were reported .\n",
            "CONCLUSIONS\tPerforming a 6-week do-as-tolerated program of eccentric heel-drop exercises , compared to the recommended 180 repetitions per day , did not lead to lesser improvement for individuals with midportion Achilles tendinopathy , based on VISA-A and VAS scores .\n",
            "\n"
          ]
        }
      ]
    },
    {
      "cell_type": "markdown",
      "source": [
        "We'll start the experiments using the small dataset (20k) with the numbers replaced with `'@'`."
      ],
      "metadata": {
        "id": "WMr44qVoVYsl"
      }
    },
    {
      "cell_type": "code",
      "source": [
        "data_dir = 'pubmed-rct/PubMed_20k_RCT_numbers_replaced_with_at_sign/'\n",
        "import os \n",
        "filenames = [data_dir+filename for filename in os.listdir(data_dir)]"
      ],
      "metadata": {
        "id": "52EJl9afVj75"
      },
      "execution_count": 6,
      "outputs": []
    },
    {
      "cell_type": "markdown",
      "source": [
        "## Preprocess data"
      ],
      "metadata": {
        "id": "dX1AGZlWWzyB"
      }
    },
    {
      "cell_type": "code",
      "source": [
        "def get_text(filename):\n",
        "  with open(filename,'r') as f:\n",
        "    return f.readlines()\n",
        "test = get_text(filenames[0])\n",
        "train = get_text(filenames[1])\n",
        "dev = get_text(filenames[2])"
      ],
      "metadata": {
        "id": "rMzVGT6WXE2Z"
      },
      "execution_count": 9,
      "outputs": []
    },
    {
      "cell_type": "markdown",
      "source": [
        "__How can we represent this data?__\n",
        "\n",
        "We can use a dictionary format with the keys: `line_number, target, text`. Our samples will be in a list of dictionaries, one for each line in the text."
      ],
      "metadata": {
        "id": "imSEx31YYiok"
      }
    },
    {
      "cell_type": "code",
      "source": [
        "def get_list_samples(file):\n",
        "  \"\"\"This function receives a written file loaded in memory (i.e. a list of strings). Then it returns the samples in the format required,\n",
        "  if the lines are in the format\n",
        "  SECTION\\t\\PHRASE\\n\n",
        "  It returns a list of dictionaries with the lines preprocessed.\n",
        "  \"\"\"\n",
        "  list_of_samples = []\n",
        "  for n_line,line in enumerate(file):\n",
        "     # Need to filter number of the paper, and empty lines\n",
        "    if line.startswith('###'):\n",
        "      article_id = line[3:-2]\n",
        "    elif line.startswith('\\n'):pass\n",
        "    else: \n",
        "      # Find the target in the string\n",
        "      index_t = line.index('\\t')\n",
        "      index_n = line.index('\\n')\n",
        "      target = line[:index_t]\n",
        "      text = line[index_t+1:index_n]\n",
        "      list_of_samples.append({'n_line':n_line,'target':target,\n",
        "                              'text':text,'article_id':article_id})\n",
        "  return list_of_samples"
      ],
      "metadata": {
        "id": "aF6P_PGZZhDA"
      },
      "execution_count": 29,
      "outputs": []
    },
    {
      "cell_type": "code",
      "source": [
        "train_list = get_list_samples(train)\n",
        "test_list = get_list_samples(test)\n",
        "dev_list = get_list_samples(dev)"
      ],
      "metadata": {
        "id": "pBi8e6BnckF8"
      },
      "execution_count": 30,
      "outputs": []
    },
    {
      "cell_type": "code",
      "source": [
        "test_list[:2]"
      ],
      "metadata": {
        "colab": {
          "base_uri": "https://localhost:8080/"
        },
        "id": "-nYC_gyCgF6C",
        "outputId": "bfa4346f-4980-49dd-ff1f-14b0b86f9bec"
      },
      "execution_count": 32,
      "outputs": [
        {
          "output_type": "execute_result",
          "data": {
            "text/plain": [
              "[{'article_id': '2484596',\n",
              "  'n_line': 1,\n",
              "  'target': 'BACKGROUND',\n",
              "  'text': 'This study analyzed liver function abnormalities in heart failure patients admitted with severe acute decompensated heart failure ( ADHF ) .'},\n",
              " {'article_id': '2484596',\n",
              "  'n_line': 2,\n",
              "  'target': 'RESULTS',\n",
              "  'text': 'A post hoc analysis was conducted with the use of data from the Evaluation Study of Congestive Heart Failure and Pulmonary Artery Catheterization Effectiveness ( ESCAPE ) .'}]"
            ]
          },
          "metadata": {},
          "execution_count": 32
        }
      ]
    },
    {
      "cell_type": "markdown",
      "source": [
        "In this format, we can turn the data into a DataFrame"
      ],
      "metadata": {
        "id": "Gobs3chCgNxp"
      }
    },
    {
      "cell_type": "code",
      "source": [
        "import pandas as pd\n",
        "train = pd.DataFrame(train_list)\n",
        "test = pd.DataFrame(test_list)\n",
        "dev = pd.DataFrame(dev_list)"
      ],
      "metadata": {
        "id": "wUFaZPmXgZLQ"
      },
      "execution_count": 48,
      "outputs": []
    },
    {
      "cell_type": "code",
      "source": [
        "train.head()"
      ],
      "metadata": {
        "colab": {
          "base_uri": "https://localhost:8080/",
          "height": 206
        },
        "id": "sLnXFPblgpyE",
        "outputId": "61158f74-ba99-4ff6-c30f-922f152362d5"
      },
      "execution_count": 35,
      "outputs": [
        {
          "output_type": "execute_result",
          "data": {
            "text/plain": [
              "   n_line     target                                               text  \\\n",
              "0       1  OBJECTIVE  To investigate the efficacy of @ weeks of dail...   \n",
              "1       2    METHODS  A total of @ patients with primary knee OA wer...   \n",
              "2       3    METHODS  Outcome measures included pain reduction and i...   \n",
              "3       4    METHODS  Pain was assessed using the visual analog pain...   \n",
              "4       5    METHODS  Secondary outcome measures included the Wester...   \n",
              "\n",
              "  article_id  \n",
              "0    2429357  \n",
              "1    2429357  \n",
              "2    2429357  \n",
              "3    2429357  \n",
              "4    2429357  "
            ],
            "text/html": [
              "\n",
              "  <div id=\"df-e536d1fa-353d-430e-8229-654451d8026b\">\n",
              "    <div class=\"colab-df-container\">\n",
              "      <div>\n",
              "<style scoped>\n",
              "    .dataframe tbody tr th:only-of-type {\n",
              "        vertical-align: middle;\n",
              "    }\n",
              "\n",
              "    .dataframe tbody tr th {\n",
              "        vertical-align: top;\n",
              "    }\n",
              "\n",
              "    .dataframe thead th {\n",
              "        text-align: right;\n",
              "    }\n",
              "</style>\n",
              "<table border=\"1\" class=\"dataframe\">\n",
              "  <thead>\n",
              "    <tr style=\"text-align: right;\">\n",
              "      <th></th>\n",
              "      <th>n_line</th>\n",
              "      <th>target</th>\n",
              "      <th>text</th>\n",
              "      <th>article_id</th>\n",
              "    </tr>\n",
              "  </thead>\n",
              "  <tbody>\n",
              "    <tr>\n",
              "      <th>0</th>\n",
              "      <td>1</td>\n",
              "      <td>OBJECTIVE</td>\n",
              "      <td>To investigate the efficacy of @ weeks of dail...</td>\n",
              "      <td>2429357</td>\n",
              "    </tr>\n",
              "    <tr>\n",
              "      <th>1</th>\n",
              "      <td>2</td>\n",
              "      <td>METHODS</td>\n",
              "      <td>A total of @ patients with primary knee OA wer...</td>\n",
              "      <td>2429357</td>\n",
              "    </tr>\n",
              "    <tr>\n",
              "      <th>2</th>\n",
              "      <td>3</td>\n",
              "      <td>METHODS</td>\n",
              "      <td>Outcome measures included pain reduction and i...</td>\n",
              "      <td>2429357</td>\n",
              "    </tr>\n",
              "    <tr>\n",
              "      <th>3</th>\n",
              "      <td>4</td>\n",
              "      <td>METHODS</td>\n",
              "      <td>Pain was assessed using the visual analog pain...</td>\n",
              "      <td>2429357</td>\n",
              "    </tr>\n",
              "    <tr>\n",
              "      <th>4</th>\n",
              "      <td>5</td>\n",
              "      <td>METHODS</td>\n",
              "      <td>Secondary outcome measures included the Wester...</td>\n",
              "      <td>2429357</td>\n",
              "    </tr>\n",
              "  </tbody>\n",
              "</table>\n",
              "</div>\n",
              "      <button class=\"colab-df-convert\" onclick=\"convertToInteractive('df-e536d1fa-353d-430e-8229-654451d8026b')\"\n",
              "              title=\"Convert this dataframe to an interactive table.\"\n",
              "              style=\"display:none;\">\n",
              "        \n",
              "  <svg xmlns=\"http://www.w3.org/2000/svg\" height=\"24px\"viewBox=\"0 0 24 24\"\n",
              "       width=\"24px\">\n",
              "    <path d=\"M0 0h24v24H0V0z\" fill=\"none\"/>\n",
              "    <path d=\"M18.56 5.44l.94 2.06.94-2.06 2.06-.94-2.06-.94-.94-2.06-.94 2.06-2.06.94zm-11 1L8.5 8.5l.94-2.06 2.06-.94-2.06-.94L8.5 2.5l-.94 2.06-2.06.94zm10 10l.94 2.06.94-2.06 2.06-.94-2.06-.94-.94-2.06-.94 2.06-2.06.94z\"/><path d=\"M17.41 7.96l-1.37-1.37c-.4-.4-.92-.59-1.43-.59-.52 0-1.04.2-1.43.59L10.3 9.45l-7.72 7.72c-.78.78-.78 2.05 0 2.83L4 21.41c.39.39.9.59 1.41.59.51 0 1.02-.2 1.41-.59l7.78-7.78 2.81-2.81c.8-.78.8-2.07 0-2.86zM5.41 20L4 18.59l7.72-7.72 1.47 1.35L5.41 20z\"/>\n",
              "  </svg>\n",
              "      </button>\n",
              "      \n",
              "  <style>\n",
              "    .colab-df-container {\n",
              "      display:flex;\n",
              "      flex-wrap:wrap;\n",
              "      gap: 12px;\n",
              "    }\n",
              "\n",
              "    .colab-df-convert {\n",
              "      background-color: #E8F0FE;\n",
              "      border: none;\n",
              "      border-radius: 50%;\n",
              "      cursor: pointer;\n",
              "      display: none;\n",
              "      fill: #1967D2;\n",
              "      height: 32px;\n",
              "      padding: 0 0 0 0;\n",
              "      width: 32px;\n",
              "    }\n",
              "\n",
              "    .colab-df-convert:hover {\n",
              "      background-color: #E2EBFA;\n",
              "      box-shadow: 0px 1px 2px rgba(60, 64, 67, 0.3), 0px 1px 3px 1px rgba(60, 64, 67, 0.15);\n",
              "      fill: #174EA6;\n",
              "    }\n",
              "\n",
              "    [theme=dark] .colab-df-convert {\n",
              "      background-color: #3B4455;\n",
              "      fill: #D2E3FC;\n",
              "    }\n",
              "\n",
              "    [theme=dark] .colab-df-convert:hover {\n",
              "      background-color: #434B5C;\n",
              "      box-shadow: 0px 1px 3px 1px rgba(0, 0, 0, 0.15);\n",
              "      filter: drop-shadow(0px 1px 2px rgba(0, 0, 0, 0.3));\n",
              "      fill: #FFFFFF;\n",
              "    }\n",
              "  </style>\n",
              "\n",
              "      <script>\n",
              "        const buttonEl =\n",
              "          document.querySelector('#df-e536d1fa-353d-430e-8229-654451d8026b button.colab-df-convert');\n",
              "        buttonEl.style.display =\n",
              "          google.colab.kernel.accessAllowed ? 'block' : 'none';\n",
              "\n",
              "        async function convertToInteractive(key) {\n",
              "          const element = document.querySelector('#df-e536d1fa-353d-430e-8229-654451d8026b');\n",
              "          const dataTable =\n",
              "            await google.colab.kernel.invokeFunction('convertToInteractive',\n",
              "                                                     [key], {});\n",
              "          if (!dataTable) return;\n",
              "\n",
              "          const docLinkHtml = 'Like what you see? Visit the ' +\n",
              "            '<a target=\"_blank\" href=https://colab.research.google.com/notebooks/data_table.ipynb>data table notebook</a>'\n",
              "            + ' to learn more about interactive tables.';\n",
              "          element.innerHTML = '';\n",
              "          dataTable['output_type'] = 'display_data';\n",
              "          await google.colab.output.renderOutput(dataTable, element);\n",
              "          const docLink = document.createElement('div');\n",
              "          docLink.innerHTML = docLinkHtml;\n",
              "          element.appendChild(docLink);\n",
              "        }\n",
              "      </script>\n",
              "    </div>\n",
              "  </div>\n",
              "  "
            ]
          },
          "metadata": {},
          "execution_count": 35
        }
      ]
    },
    {
      "cell_type": "code",
      "source": [
        "# Distribution of labels in training data\n",
        "train.target.value_counts()"
      ],
      "metadata": {
        "colab": {
          "base_uri": "https://localhost:8080/"
        },
        "id": "W9OdYieZgxJd",
        "outputId": "9f35199c-4947-4890-d9c0-dc4fabeb378f"
      },
      "execution_count": 36,
      "outputs": [
        {
          "output_type": "execute_result",
          "data": {
            "text/plain": [
              "METHODS        59353\n",
              "RESULTS        57953\n",
              "CONCLUSIONS    27168\n",
              "BACKGROUND     21727\n",
              "OBJECTIVE      13839\n",
              "Name: target, dtype: int64"
            ]
          },
          "metadata": {},
          "execution_count": 36
        }
      ]
    },
    {
      "cell_type": "code",
      "source": [
        "X_train = train['text'].tolist()\n",
        "X_test = test['text'].tolist()\n",
        "X_dev = dev['text'].tolist()\n",
        "print(len(X_train),len(X_test),len(X_dev))"
      ],
      "metadata": {
        "colab": {
          "base_uri": "https://localhost:8080/"
        },
        "id": "m_ekqvMphFhI",
        "outputId": "2c46e70a-91f6-442e-f3d3-fffcca496d94"
      },
      "execution_count": 38,
      "outputs": [
        {
          "output_type": "stream",
          "name": "stdout",
          "text": [
            "180040 30135 30212\n"
          ]
        }
      ]
    },
    {
      "cell_type": "code",
      "source": [
        "# One-hot-encoder for the targets\n",
        "from sklearn.preprocessing import OneHotEncoder\n",
        "OHE = OneHotEncoder(sparse=False)\n",
        "OHE.fit(train.target.to_numpy().reshape(-1,1))\n",
        "y_train = OHE.transform(train.target.to_numpy().reshape(-1,1))\n",
        "y_test = OHE.transform(test['target'].to_numpy().reshape(-1,1))\n",
        "y_dev = OHE.transform(dev['target'].to_numpy().reshape(-1,1))\n",
        "for target,number in zip(train.target.tolist()[5:8],y_train[5:8]):\n",
        "  print(target,number)"
      ],
      "metadata": {
        "colab": {
          "base_uri": "https://localhost:8080/"
        },
        "id": "C5cwASW8jmLW",
        "outputId": "1fc32f2c-36c7-4167-81b3-b11ab25852a8"
      },
      "execution_count": 54,
      "outputs": [
        {
          "output_type": "stream",
          "name": "stdout",
          "text": [
            "METHODS [0. 0. 1. 0. 0.]\n",
            "RESULTS [0. 0. 0. 0. 1.]\n",
            "RESULTS [0. 0. 0. 0. 1.]\n"
          ]
        }
      ]
    }
  ]
}