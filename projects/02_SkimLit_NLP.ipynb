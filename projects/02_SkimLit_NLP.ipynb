{
  "nbformat": 4,
  "nbformat_minor": 0,
  "metadata": {
    "colab": {
      "name": "02_SkimLit_NLP.ipynb",
      "provenance": [],
      "authorship_tag": "ABX9TyNpjbZHVgvy0GVQWO55pfEE",
      "include_colab_link": true
    },
    "kernelspec": {
      "name": "python3",
      "display_name": "Python 3"
    },
    "language_info": {
      "name": "python"
    },
    "accelerator": "GPU"
  },
  "cells": [
    {
      "cell_type": "markdown",
      "metadata": {
        "id": "view-in-github",
        "colab_type": "text"
      },
      "source": [
        "<a href=\"https://colab.research.google.com/github/nicolasvazquez95/Aprendiendo_DeepLearning/blob/main/projects/02_SkimLit_NLP.ipynb\" target=\"_parent\"><img src=\"https://colab.research.google.com/assets/colab-badge.svg\" alt=\"Open In Colab\"/></a>"
      ]
    },
    {
      "cell_type": "markdown",
      "source": [
        "# SkimLit\n",
        "\n",
        "The purpose of this notebook is to build an NLP model to make reading medical abstracts easier.\n",
        "\n",
        "The paper we're replicating (the source of the dataset that we'll be using) is available in [arXiv](https://arxiv.org/abs/1710.06071).\n",
        "\n",
        "The model architecture that they use is available here: https://arxiv.org/abs/1612.05251\n"
      ],
      "metadata": {
        "id": "7h01gRjoCEux"
      }
    },
    {
      "cell_type": "markdown",
      "source": [
        "## Confirm access to a GPU"
      ],
      "metadata": {
        "id": "eMK6_I-DQCET"
      }
    },
    {
      "cell_type": "code",
      "source": [
        "!nvidia-smi -L"
      ],
      "metadata": {
        "colab": {
          "base_uri": "https://localhost:8080/"
        },
        "id": "KcRoRMJYQlsh",
        "outputId": "5b7698b8-78f8-42b8-be42-e726f8dffd2f"
      },
      "execution_count": 1,
      "outputs": [
        {
          "output_type": "stream",
          "name": "stdout",
          "text": [
            "GPU 0: Tesla T4 (UUID: GPU-e85751d2-b151-794a-0fd7-e907d7553720)\n"
          ]
        }
      ]
    },
    {
      "cell_type": "markdown",
      "source": [
        "## Get data\n",
        "Let's download the dataset they used. It's freely available in GitHub"
      ],
      "metadata": {
        "id": "3sN79ft8QmIv"
      }
    },
    {
      "cell_type": "code",
      "source": [
        "!git clone https://github.com/Franck-Dernoncourt/pubmed-rct"
      ],
      "metadata": {
        "colab": {
          "base_uri": "https://localhost:8080/"
        },
        "id": "FQmXI3SOQ5kM",
        "outputId": "add2ffb8-fbfc-49d6-ca4e-c259754c95b5"
      },
      "execution_count": 2,
      "outputs": [
        {
          "output_type": "stream",
          "name": "stdout",
          "text": [
            "Cloning into 'pubmed-rct'...\n",
            "remote: Enumerating objects: 33, done.\u001b[K\n",
            "remote: Counting objects: 100% (8/8), done.\u001b[K\n",
            "remote: Compressing objects: 100% (3/3), done.\u001b[K\n",
            "remote: Total 33 (delta 5), reused 5 (delta 5), pack-reused 25\u001b[K\n",
            "Unpacking objects: 100% (33/33), done.\n"
          ]
        }
      ]
    },
    {
      "cell_type": "code",
      "source": [
        "!tail pubmed-rct/PubMed_20k_RCT/test.txt"
      ],
      "metadata": {
        "colab": {
          "base_uri": "https://localhost:8080/"
        },
        "id": "A_-ruyjSRC0h",
        "outputId": "04f09d8d-79ac-484e-f839-9e0d4a411187"
      },
      "execution_count": 3,
      "outputs": [
        {
          "output_type": "stream",
          "name": "stdout",
          "text": [
            "METHODS\tBoth were assessed at baseline , 3 weeks , and 6 weeks .\n",
            "METHODS\tTreatment satisfaction was assessed at week 6 .\n",
            "METHODS\tAdverse effects were also monitored .\n",
            "RESULTS\tThere was a statistically significant within-group improvement in VISA-A score for both groups ( standard , P = .03 ; do as tolerated , P < .001 ) and VAS pain for the do-as-tolerated group ( P = .001 ) at week 6 , based on the intention-to-treat analysis .\n",
            "RESULTS\tThere was a statistically significant between-group difference in VISA-A scores at week 3 , based on both the intention-to-treat ( P = .004 ) and per-protocol analyses ( P = .007 ) , partly due to a within-group deterioration at week 3 in the standard group .\n",
            "RESULTS\tThere were no statistically significant between-group differences for VISA-A and VAS pain scores at week 6 , the completion of the intervention .\n",
            "RESULTS\tThere was no significant association between satisfaction and treatment groups at week 6 .\n",
            "RESULTS\tNo adverse effects were reported .\n",
            "CONCLUSIONS\tPerforming a 6-week do-as-tolerated program of eccentric heel-drop exercises , compared to the recommended 180 repetitions per day , did not lead to lesser improvement for individuals with midportion Achilles tendinopathy , based on VISA-A and VAS scores .\n",
            "\n"
          ]
        }
      ]
    },
    {
      "cell_type": "markdown",
      "source": [
        "We'll start the experiments using the small dataset (20k) with the numbers replaced with `'@'`."
      ],
      "metadata": {
        "id": "WMr44qVoVYsl"
      }
    },
    {
      "cell_type": "code",
      "source": [
        "data_dir = 'pubmed-rct/PubMed_20k_RCT_numbers_replaced_with_at_sign/'\n",
        "import os \n",
        "filenames = [data_dir+filename for filename in os.listdir(data_dir)]"
      ],
      "metadata": {
        "id": "52EJl9afVj75"
      },
      "execution_count": 4,
      "outputs": []
    },
    {
      "cell_type": "markdown",
      "source": [
        "## Preprocess data"
      ],
      "metadata": {
        "id": "dX1AGZlWWzyB"
      }
    },
    {
      "cell_type": "code",
      "source": [
        "def get_text(filename):\n",
        "  with open(filename,'r') as f:\n",
        "    return f.readlines()\n",
        "test = get_text(filenames[0])\n",
        "train = get_text(filenames[1])\n",
        "dev = get_text(filenames[2])"
      ],
      "metadata": {
        "id": "rMzVGT6WXE2Z"
      },
      "execution_count": 5,
      "outputs": []
    },
    {
      "cell_type": "markdown",
      "source": [
        "__How can we represent this data?__\n",
        "\n",
        "We can use a dictionary format with the keys: `line_number, target, text`. Our samples will be in a list of dictionaries, one for each line in the text."
      ],
      "metadata": {
        "id": "imSEx31YYiok"
      }
    },
    {
      "cell_type": "code",
      "source": [
        "def get_list_samples(file):\n",
        "  \"\"\"This function receives a written file loaded in memory (i.e. a list of strings). Then it returns the samples in the format required,\n",
        "  if the lines are in the format\n",
        "  SECTION\\t\\PHRASE\\n\n",
        "  It returns a list of dictionaries with the lines preprocessed.\n",
        "  \"\"\"\n",
        "  list_of_samples = []\n",
        "  for n_line,line in enumerate(file):\n",
        "     # Need to filter number of the paper, and empty lines\n",
        "    if line.startswith('###'):\n",
        "      article_id = line[3:-2]\n",
        "    elif line.startswith('\\n'):pass\n",
        "    else: \n",
        "      # Find the target in the string\n",
        "      index_t = line.index('\\t')\n",
        "      index_n = line.index('\\n')\n",
        "      target = line[:index_t]\n",
        "      text = line[index_t+1:index_n]\n",
        "      list_of_samples.append({'n_line':n_line,'target':target,\n",
        "                              'text':text,'article_id':article_id})\n",
        "  return list_of_samples"
      ],
      "metadata": {
        "id": "aF6P_PGZZhDA"
      },
      "execution_count": 6,
      "outputs": []
    },
    {
      "cell_type": "code",
      "source": [
        "train_list = get_list_samples(train)\n",
        "test_list = get_list_samples(test)\n",
        "dev_list = get_list_samples(dev)"
      ],
      "metadata": {
        "id": "pBi8e6BnckF8"
      },
      "execution_count": 7,
      "outputs": []
    },
    {
      "cell_type": "code",
      "source": [
        "test_list[:2]"
      ],
      "metadata": {
        "colab": {
          "base_uri": "https://localhost:8080/"
        },
        "id": "-nYC_gyCgF6C",
        "outputId": "e5035664-02b4-4095-cb8f-8b37e40f8224"
      },
      "execution_count": 8,
      "outputs": [
        {
          "output_type": "execute_result",
          "data": {
            "text/plain": [
              "[{'article_id': '2484596',\n",
              "  'n_line': 1,\n",
              "  'target': 'BACKGROUND',\n",
              "  'text': 'This study analyzed liver function abnormalities in heart failure patients admitted with severe acute decompensated heart failure ( ADHF ) .'},\n",
              " {'article_id': '2484596',\n",
              "  'n_line': 2,\n",
              "  'target': 'RESULTS',\n",
              "  'text': 'A post hoc analysis was conducted with the use of data from the Evaluation Study of Congestive Heart Failure and Pulmonary Artery Catheterization Effectiveness ( ESCAPE ) .'}]"
            ]
          },
          "metadata": {},
          "execution_count": 8
        }
      ]
    },
    {
      "cell_type": "markdown",
      "source": [
        "In this format, we can turn the data into a DataFrame"
      ],
      "metadata": {
        "id": "Gobs3chCgNxp"
      }
    },
    {
      "cell_type": "code",
      "source": [
        "import pandas as pd\n",
        "train = pd.DataFrame(train_list)\n",
        "test = pd.DataFrame(test_list)\n",
        "dev = pd.DataFrame(dev_list)"
      ],
      "metadata": {
        "id": "wUFaZPmXgZLQ"
      },
      "execution_count": 9,
      "outputs": []
    },
    {
      "cell_type": "code",
      "source": [
        "train.head()"
      ],
      "metadata": {
        "colab": {
          "base_uri": "https://localhost:8080/",
          "height": 206
        },
        "id": "sLnXFPblgpyE",
        "outputId": "695496f9-a544-4f6a-dadd-a937acb248d5"
      },
      "execution_count": 10,
      "outputs": [
        {
          "output_type": "execute_result",
          "data": {
            "text/plain": [
              "   n_line     target                                               text  \\\n",
              "0       1  OBJECTIVE  To investigate the efficacy of @ weeks of dail...   \n",
              "1       2    METHODS  A total of @ patients with primary knee OA wer...   \n",
              "2       3    METHODS  Outcome measures included pain reduction and i...   \n",
              "3       4    METHODS  Pain was assessed using the visual analog pain...   \n",
              "4       5    METHODS  Secondary outcome measures included the Wester...   \n",
              "\n",
              "  article_id  \n",
              "0    2429357  \n",
              "1    2429357  \n",
              "2    2429357  \n",
              "3    2429357  \n",
              "4    2429357  "
            ],
            "text/html": [
              "\n",
              "  <div id=\"df-f1ff886f-8837-41a9-8111-b8a3efbca861\">\n",
              "    <div class=\"colab-df-container\">\n",
              "      <div>\n",
              "<style scoped>\n",
              "    .dataframe tbody tr th:only-of-type {\n",
              "        vertical-align: middle;\n",
              "    }\n",
              "\n",
              "    .dataframe tbody tr th {\n",
              "        vertical-align: top;\n",
              "    }\n",
              "\n",
              "    .dataframe thead th {\n",
              "        text-align: right;\n",
              "    }\n",
              "</style>\n",
              "<table border=\"1\" class=\"dataframe\">\n",
              "  <thead>\n",
              "    <tr style=\"text-align: right;\">\n",
              "      <th></th>\n",
              "      <th>n_line</th>\n",
              "      <th>target</th>\n",
              "      <th>text</th>\n",
              "      <th>article_id</th>\n",
              "    </tr>\n",
              "  </thead>\n",
              "  <tbody>\n",
              "    <tr>\n",
              "      <th>0</th>\n",
              "      <td>1</td>\n",
              "      <td>OBJECTIVE</td>\n",
              "      <td>To investigate the efficacy of @ weeks of dail...</td>\n",
              "      <td>2429357</td>\n",
              "    </tr>\n",
              "    <tr>\n",
              "      <th>1</th>\n",
              "      <td>2</td>\n",
              "      <td>METHODS</td>\n",
              "      <td>A total of @ patients with primary knee OA wer...</td>\n",
              "      <td>2429357</td>\n",
              "    </tr>\n",
              "    <tr>\n",
              "      <th>2</th>\n",
              "      <td>3</td>\n",
              "      <td>METHODS</td>\n",
              "      <td>Outcome measures included pain reduction and i...</td>\n",
              "      <td>2429357</td>\n",
              "    </tr>\n",
              "    <tr>\n",
              "      <th>3</th>\n",
              "      <td>4</td>\n",
              "      <td>METHODS</td>\n",
              "      <td>Pain was assessed using the visual analog pain...</td>\n",
              "      <td>2429357</td>\n",
              "    </tr>\n",
              "    <tr>\n",
              "      <th>4</th>\n",
              "      <td>5</td>\n",
              "      <td>METHODS</td>\n",
              "      <td>Secondary outcome measures included the Wester...</td>\n",
              "      <td>2429357</td>\n",
              "    </tr>\n",
              "  </tbody>\n",
              "</table>\n",
              "</div>\n",
              "      <button class=\"colab-df-convert\" onclick=\"convertToInteractive('df-f1ff886f-8837-41a9-8111-b8a3efbca861')\"\n",
              "              title=\"Convert this dataframe to an interactive table.\"\n",
              "              style=\"display:none;\">\n",
              "        \n",
              "  <svg xmlns=\"http://www.w3.org/2000/svg\" height=\"24px\"viewBox=\"0 0 24 24\"\n",
              "       width=\"24px\">\n",
              "    <path d=\"M0 0h24v24H0V0z\" fill=\"none\"/>\n",
              "    <path d=\"M18.56 5.44l.94 2.06.94-2.06 2.06-.94-2.06-.94-.94-2.06-.94 2.06-2.06.94zm-11 1L8.5 8.5l.94-2.06 2.06-.94-2.06-.94L8.5 2.5l-.94 2.06-2.06.94zm10 10l.94 2.06.94-2.06 2.06-.94-2.06-.94-.94-2.06-.94 2.06-2.06.94z\"/><path d=\"M17.41 7.96l-1.37-1.37c-.4-.4-.92-.59-1.43-.59-.52 0-1.04.2-1.43.59L10.3 9.45l-7.72 7.72c-.78.78-.78 2.05 0 2.83L4 21.41c.39.39.9.59 1.41.59.51 0 1.02-.2 1.41-.59l7.78-7.78 2.81-2.81c.8-.78.8-2.07 0-2.86zM5.41 20L4 18.59l7.72-7.72 1.47 1.35L5.41 20z\"/>\n",
              "  </svg>\n",
              "      </button>\n",
              "      \n",
              "  <style>\n",
              "    .colab-df-container {\n",
              "      display:flex;\n",
              "      flex-wrap:wrap;\n",
              "      gap: 12px;\n",
              "    }\n",
              "\n",
              "    .colab-df-convert {\n",
              "      background-color: #E8F0FE;\n",
              "      border: none;\n",
              "      border-radius: 50%;\n",
              "      cursor: pointer;\n",
              "      display: none;\n",
              "      fill: #1967D2;\n",
              "      height: 32px;\n",
              "      padding: 0 0 0 0;\n",
              "      width: 32px;\n",
              "    }\n",
              "\n",
              "    .colab-df-convert:hover {\n",
              "      background-color: #E2EBFA;\n",
              "      box-shadow: 0px 1px 2px rgba(60, 64, 67, 0.3), 0px 1px 3px 1px rgba(60, 64, 67, 0.15);\n",
              "      fill: #174EA6;\n",
              "    }\n",
              "\n",
              "    [theme=dark] .colab-df-convert {\n",
              "      background-color: #3B4455;\n",
              "      fill: #D2E3FC;\n",
              "    }\n",
              "\n",
              "    [theme=dark] .colab-df-convert:hover {\n",
              "      background-color: #434B5C;\n",
              "      box-shadow: 0px 1px 3px 1px rgba(0, 0, 0, 0.15);\n",
              "      filter: drop-shadow(0px 1px 2px rgba(0, 0, 0, 0.3));\n",
              "      fill: #FFFFFF;\n",
              "    }\n",
              "  </style>\n",
              "\n",
              "      <script>\n",
              "        const buttonEl =\n",
              "          document.querySelector('#df-f1ff886f-8837-41a9-8111-b8a3efbca861 button.colab-df-convert');\n",
              "        buttonEl.style.display =\n",
              "          google.colab.kernel.accessAllowed ? 'block' : 'none';\n",
              "\n",
              "        async function convertToInteractive(key) {\n",
              "          const element = document.querySelector('#df-f1ff886f-8837-41a9-8111-b8a3efbca861');\n",
              "          const dataTable =\n",
              "            await google.colab.kernel.invokeFunction('convertToInteractive',\n",
              "                                                     [key], {});\n",
              "          if (!dataTable) return;\n",
              "\n",
              "          const docLinkHtml = 'Like what you see? Visit the ' +\n",
              "            '<a target=\"_blank\" href=https://colab.research.google.com/notebooks/data_table.ipynb>data table notebook</a>'\n",
              "            + ' to learn more about interactive tables.';\n",
              "          element.innerHTML = '';\n",
              "          dataTable['output_type'] = 'display_data';\n",
              "          await google.colab.output.renderOutput(dataTable, element);\n",
              "          const docLink = document.createElement('div');\n",
              "          docLink.innerHTML = docLinkHtml;\n",
              "          element.appendChild(docLink);\n",
              "        }\n",
              "      </script>\n",
              "    </div>\n",
              "  </div>\n",
              "  "
            ]
          },
          "metadata": {},
          "execution_count": 10
        }
      ]
    },
    {
      "cell_type": "code",
      "source": [
        "# Distribution of labels in training data\n",
        "train.target.value_counts()"
      ],
      "metadata": {
        "colab": {
          "base_uri": "https://localhost:8080/"
        },
        "id": "W9OdYieZgxJd",
        "outputId": "108804b4-4ff7-4877-e8e4-b78cdc2a256c"
      },
      "execution_count": 11,
      "outputs": [
        {
          "output_type": "execute_result",
          "data": {
            "text/plain": [
              "METHODS        59353\n",
              "RESULTS        57953\n",
              "CONCLUSIONS    27168\n",
              "BACKGROUND     21727\n",
              "OBJECTIVE      13839\n",
              "Name: target, dtype: int64"
            ]
          },
          "metadata": {},
          "execution_count": 11
        }
      ]
    },
    {
      "cell_type": "code",
      "source": [
        "num_classes = len(train.target.value_counts())"
      ],
      "metadata": {
        "id": "rHyA19lVOngM"
      },
      "execution_count": 48,
      "outputs": []
    },
    {
      "cell_type": "code",
      "source": [
        "X_train = train['text'].tolist()\n",
        "X_test = test['text'].tolist()\n",
        "X_dev = dev['text'].tolist()\n",
        "print(len(X_train),len(X_test),len(X_dev))"
      ],
      "metadata": {
        "colab": {
          "base_uri": "https://localhost:8080/"
        },
        "id": "m_ekqvMphFhI",
        "outputId": "64639600-4480-402e-f9ce-8cb23426b0f8"
      },
      "execution_count": 12,
      "outputs": [
        {
          "output_type": "stream",
          "name": "stdout",
          "text": [
            "180040 30135 30212\n"
          ]
        }
      ]
    },
    {
      "cell_type": "code",
      "source": [
        "# One-hot-encoder for the targets\n",
        "from sklearn.preprocessing import OneHotEncoder\n",
        "OHE = OneHotEncoder(sparse=False)\n",
        "OHE.fit(train.target.to_numpy().reshape(-1,1))\n",
        "y_train = OHE.transform(train.target.to_numpy().reshape(-1,1))\n",
        "y_test = OHE.transform(test['target'].to_numpy().reshape(-1,1))\n",
        "y_dev = OHE.transform(dev['target'].to_numpy().reshape(-1,1))\n",
        "for target,number in zip(train.target.tolist()[5:8],y_train[5:8]):\n",
        "  print(target,number)"
      ],
      "metadata": {
        "colab": {
          "base_uri": "https://localhost:8080/"
        },
        "id": "C5cwASW8jmLW",
        "outputId": "7e68cabe-1a36-4deb-e482-f264dc2f3c13"
      },
      "execution_count": 13,
      "outputs": [
        {
          "output_type": "stream",
          "name": "stdout",
          "text": [
            "METHODS [0. 0. 1. 0. 0.]\n",
            "RESULTS [0. 0. 0. 0. 1.]\n",
            "RESULTS [0. 0. 0. 0. 1.]\n"
          ]
        }
      ]
    },
    {
      "cell_type": "markdown",
      "source": [
        "# Starting a series of modelling experiments"
      ],
      "metadata": {
        "id": "3Kv5NKanLbzP"
      }
    },
    {
      "cell_type": "markdown",
      "source": [
        "## Baseline model (SKLearn)"
      ],
      "metadata": {
        "id": "BuMOZ5m5KQHR"
      }
    },
    {
      "cell_type": "code",
      "source": [
        "from sklearn.feature_extraction.text import TfidfVectorizer\n",
        "from sklearn.naive_bayes import MultinomialNB\n",
        "from sklearn.pipeline import Pipeline\n",
        "\n",
        "# Create pipeline\n",
        "model_0 = Pipeline([('tf-idf',TfidfVectorizer()),\n",
        "                    ('clf',MultinomialNB())])\n",
        "\n",
        "# Fit pipeline to the training data\n",
        "model_0.fit(X=X_train,y=y_train.argmax(axis=1))"
      ],
      "metadata": {
        "colab": {
          "base_uri": "https://localhost:8080/"
        },
        "id": "elAFCE0gMAMr",
        "outputId": "780c1d14-42e0-45ec-b790-7556cea98f0b"
      },
      "execution_count": 14,
      "outputs": [
        {
          "output_type": "execute_result",
          "data": {
            "text/plain": [
              "Pipeline(steps=[('tf-idf', TfidfVectorizer()), ('clf', MultinomialNB())])"
            ]
          },
          "metadata": {},
          "execution_count": 14
        }
      ]
    },
    {
      "cell_type": "code",
      "source": [
        "#Evaluate on the test dataset\n",
        "print(model_0.score(X=X_test,y=y_test.argmax(axis=1)))\n",
        "# Get predictions for more metrics \n",
        "baseline_predictions = model_0.predict(X_test)"
      ],
      "metadata": {
        "colab": {
          "base_uri": "https://localhost:8080/"
        },
        "id": "Caf4RK5UNjLy",
        "outputId": "eb7b006f-2696-412c-e115-76bd263e890b"
      },
      "execution_count": 19,
      "outputs": [
        {
          "output_type": "stream",
          "name": "stdout",
          "text": [
            "0.716674962667994\n"
          ]
        }
      ]
    },
    {
      "cell_type": "code",
      "source": [
        "# Use the helper script for the F1 metrics\n",
        "!wget https://raw.githubusercontent.com/mrdbourke/tensorflow-deep-learning/main/extras/helper_functions.py"
      ],
      "metadata": {
        "id": "zBjU78bMPe6c",
        "outputId": "10f9689e-59c5-4f28-f144-85d0d2ccef39",
        "colab": {
          "base_uri": "https://localhost:8080/"
        }
      },
      "execution_count": 17,
      "outputs": [
        {
          "output_type": "stream",
          "name": "stdout",
          "text": [
            "--2022-05-26 20:24:20--  https://raw.githubusercontent.com/mrdbourke/tensorflow-deep-learning/main/extras/helper_functions.py\n",
            "Resolving raw.githubusercontent.com (raw.githubusercontent.com)... 185.199.108.133, 185.199.109.133, 185.199.110.133, ...\n",
            "Connecting to raw.githubusercontent.com (raw.githubusercontent.com)|185.199.108.133|:443... connected.\n",
            "HTTP request sent, awaiting response... 200 OK\n",
            "Length: 10246 (10K) [text/plain]\n",
            "Saving to: ‘helper_functions.py’\n",
            "\n",
            "helper_functions.py 100%[===================>]  10.01K  --.-KB/s    in 0s      \n",
            "\n",
            "2022-05-26 20:24:20 (62.5 MB/s) - ‘helper_functions.py’ saved [10246/10246]\n",
            "\n"
          ]
        }
      ]
    },
    {
      "cell_type": "code",
      "source": [
        "from helper_functions import calculate_results\n",
        "calculate_results(y_true=y_test.argmax(axis=1),y_pred=baseline_predictions)"
      ],
      "metadata": {
        "id": "UeyaKHlxCp6O",
        "outputId": "6c3685ef-0fd0-4a8d-eed5-ac65f3bdeadb",
        "colab": {
          "base_uri": "https://localhost:8080/"
        }
      },
      "execution_count": 23,
      "outputs": [
        {
          "output_type": "execute_result",
          "data": {
            "text/plain": [
              "{'accuracy': 71.6674962667994,\n",
              " 'f1': 0.6925101703856846,\n",
              " 'precision': 0.7124322482375202,\n",
              " 'recall': 0.716674962667994}"
            ]
          },
          "metadata": {},
          "execution_count": 23
        }
      ]
    },
    {
      "cell_type": "markdown",
      "source": [
        "# Deep Learning models\n"
      ],
      "metadata": {
        "id": "5owvb98NDAOS"
      }
    },
    {
      "cell_type": "markdown",
      "source": [
        "## TextVectorizer + Embedding layer"
      ],
      "metadata": {
        "id": "u_EcBCFwKVrj"
      }
    },
    {
      "cell_type": "code",
      "source": [
        "import numpy as np\n",
        "import tensorflow as tf\n",
        "from tensorflow.keras import layers\n",
        "from tensorflow import keras"
      ],
      "metadata": {
        "id": "F6JTCzvGDreH"
      },
      "execution_count": 24,
      "outputs": []
    },
    {
      "cell_type": "code",
      "source": [
        "# Length of sentences we're working with\n",
        "sent_lens = [len(sentence.split()) for sentence in X_train]\n",
        "np.mean(sent_lens),np.std(sent_lens)"
      ],
      "metadata": {
        "id": "8eT00zCOEDqD",
        "outputId": "0fad9361-5f5d-44fe-ab0d-074c21c678c6",
        "colab": {
          "base_uri": "https://localhost:8080/"
        }
      },
      "execution_count": 26,
      "outputs": [
        {
          "output_type": "execute_result",
          "data": {
            "text/plain": [
              "(26.338269273494777, 15.38676065622758)"
            ]
          },
          "metadata": {},
          "execution_count": 26
        }
      ]
    },
    {
      "cell_type": "code",
      "source": [
        "from matplotlib import pyplot as plt\n",
        "plt.hist(sent_lens,bins=30,density=True,cumulative=False)\n",
        "plt.grid()\n",
        "plt.xlabel('Length of sentence');plt.ylabel('Relative freq.')\n",
        "plt.show()"
      ],
      "metadata": {
        "id": "gVLbEXAdEVZc",
        "outputId": "a958c693-7c58-41b5-a21d-2e0a8dd5e6e4",
        "colab": {
          "base_uri": "https://localhost:8080/",
          "height": 279
        }
      },
      "execution_count": 30,
      "outputs": [
        {
          "output_type": "display_data",
          "data": {
            "text/plain": [
              "<Figure size 432x288 with 1 Axes>"
            ],
            "image/png": "[encoded data removed]"
          },
          "metadata": {
            "needs_background": "light"
          }
        }
      ]
    },
    {
      "cell_type": "code",
      "source": [
        "# Cumulative probability distribution of the sentences\n",
        "plt.hist(sent_lens,bins=30,density=True,cumulative=True)\n",
        "plt.grid()\n",
        "plt.xlabel('Length of sentence');plt.ylabel('Probability')\n",
        "plt.show()\n",
        "# How long of a sentence covers 99.9% of the examples?\n",
        "# How long is the longest sentence in the training set?\n",
        "int(np.percentile(sent_lens,99.9)), max(sent_lens)"
      ],
      "metadata": {
        "id": "10Cs5LtGE7Ko",
        "outputId": "fe773bf9-21b0-4dd5-ae85-26872c78c357",
        "colab": {
          "base_uri": "https://localhost:8080/",
          "height": 296
        }
      },
      "execution_count": 52,
      "outputs": [
        {
          "output_type": "display_data",
          "data": {
            "text/plain": [
              "<Figure size 432x288 with 1 Axes>"
            ],
            "image/png": "[encoded data removed]"
          },
          "metadata": {
            "needs_background": "light"
          }
        },
        {
          "output_type": "execute_result",
          "data": {
            "text/plain": [
              "(122, 296)"
            ]
          },
          "metadata": {},
          "execution_count": 52
        }
      ]
    },
    {
      "cell_type": "code",
      "source": [
        "# Text Vectorization layer\n",
        "len(X_train)\n",
        "# In the paper (https://arxiv.org/pdf/1710.06071v1.pdf), the authors of the dataset state\n",
        "# that the vocabulary length is ~68k\n",
        "max_tokens = 68000\n",
        "\n",
        "text_vectorizer = layers.experimental.preprocessing.TextVectorization(max_tokens,\n",
        "                                                                      output_sequence_length=122)\n",
        "# Adapt to the training sequences\n",
        "text_vectorizer.adapt(X_train)"
      ],
      "metadata": {
        "id": "4Jqcc9_7Fpjp"
      },
      "execution_count": 38,
      "outputs": []
    },
    {
      "cell_type": "code",
      "source": [
        "import random\n",
        "random_sentence = random.choice(X_train)\n",
        "print(f'Text:\\n{random_sentence}')\n",
        "print(f'Length of text:{len(random_sentence)}')\n",
        "print(f'Vectorized text:\\n{text_vectorizer([random_sentence])}')"
      ],
      "metadata": {
        "id": "v--Hylh7IYTF",
        "outputId": "476c8c01-2cab-49e7-cc9f-bf2b7b779187",
        "colab": {
          "base_uri": "https://localhost:8080/"
        }
      },
      "execution_count": 40,
      "outputs": [
        {
          "output_type": "stream",
          "name": "stdout",
          "text": [
            "Text:\n",
            "It is unclear whether thiazide diuretics ( TZs ) or calcium channel blockers ( CCBs ) are more effective as add-on therapy to angiotensin receptor blockers ( ARBs ) in controlling hypertension .\n",
            "Length of text:194\n",
            "Vectorized text:\n",
            "[[  185    20  1288   180 15354  8477 33458    16   826  7732  3638 23652\n",
            "     58    69   137    25  2040    66     6  3641   746  3638 10873     5\n",
            "   1708   659     0     0     0     0     0     0     0     0     0     0\n",
            "      0     0     0     0     0     0     0     0     0     0     0     0\n",
            "      0     0     0     0     0     0     0     0     0     0     0     0\n",
            "      0     0     0     0     0     0     0     0     0     0     0     0\n",
            "      0     0     0     0     0     0     0     0     0     0     0     0\n",
            "      0     0     0     0     0     0     0     0     0     0     0     0\n",
            "      0     0     0     0     0     0     0     0     0     0     0     0\n",
            "      0     0     0     0     0     0     0     0     0     0     0     0\n",
            "      0     0]]\n"
          ]
        }
      ]
    },
    {
      "cell_type": "code",
      "source": [
        "# Words of our vocabulary\n",
        "text_vocab = text_vectorizer.get_vocabulary()\n",
        "print(f'Number of words in vocab: {len(text_vocab)}')\n",
        "print(f'5 most common words in the vocab: {text_vocab[:5]}')\n",
        "print(f'5 least common words in the vocab: {text_vocab[-5:]}')"
      ],
      "metadata": {
        "id": "vv-XeMPuJMCN",
        "outputId": "3fbe6250-4afd-43f8-bd4d-97445ba00fcb",
        "colab": {
          "base_uri": "https://localhost:8080/"
        }
      },
      "execution_count": 41,
      "outputs": [
        {
          "output_type": "stream",
          "name": "stdout",
          "text": [
            "Number of words in vocab: 64841\n",
            "5 most common words in the vocab: ['', '[UNK]', 'the', 'and', 'of']\n",
            "5 least common words in the vocab: ['aainduced', 'aaigroup', 'aachener', 'aachen', 'aaacp']\n"
          ]
        }
      ]
    },
    {
      "cell_type": "code",
      "source": [
        "# Config of the vocabulary\n",
        "text_vectorizer.get_config()"
      ],
      "metadata": {
        "id": "njsDIXrSJ5O2",
        "outputId": "48a5a2a1-6246-4801-ba92-1dd3d3641244",
        "colab": {
          "base_uri": "https://localhost:8080/"
        }
      },
      "execution_count": 42,
      "outputs": [
        {
          "output_type": "execute_result",
          "data": {
            "text/plain": [
              "{'batch_input_shape': (None,),\n",
              " 'dtype': 'string',\n",
              " 'idf_weights': None,\n",
              " 'max_tokens': 68000,\n",
              " 'name': 'text_vectorization',\n",
              " 'ngrams': None,\n",
              " 'output_mode': 'int',\n",
              " 'output_sequence_length': 122,\n",
              " 'pad_to_max_tokens': False,\n",
              " 'ragged': False,\n",
              " 'sparse': False,\n",
              " 'split': 'whitespace',\n",
              " 'standardize': 'lower_and_strip_punctuation',\n",
              " 'trainable': True,\n",
              " 'vocabulary': None}"
            ]
          },
          "metadata": {},
          "execution_count": 42
        }
      ]
    },
    {
      "cell_type": "markdown",
      "source": [
        "## Create custom text embedding\n"
      ],
      "metadata": {
        "id": "LVTHvFmdKIxR"
      }
    },
    {
      "cell_type": "code",
      "source": [
        "embedding_layer = layers.Embedding(input_dim=len(text_vocab),\n",
        "                                   output_dim=512,\n",
        "                                   mask_zero=True,\n",
        "                                   name='embedding_layer')"
      ],
      "metadata": {
        "id": "gnzXqN9DKMeW"
      },
      "execution_count": 43,
      "outputs": []
    },
    {
      "cell_type": "markdown",
      "source": [
        "## Creating datasets\n",
        "_Loading our data as fast as possible..._"
      ],
      "metadata": {
        "id": "w3vsSzsVLdT3"
      }
    },
    {
      "cell_type": "code",
      "source": [
        "# We'll use the tf.data API\n",
        "train_dataset = tf.data.Dataset.from_tensor_slices((X_train,y_train))\n",
        "test_dataset = tf.data.Dataset.from_tensor_slices((X_test,y_test))\n",
        "dev_dataset = tf.data.Dataset.from_tensor_slices((X_dev,y_dev))\n",
        "\n",
        "train_dataset = train_dataset.batch(32).prefetch(tf.data.AUTOTUNE)\n",
        "test_dataset = test_dataset.batch(32).prefetch(tf.data.AUTOTUNE)\n",
        "dev_dataset = dev_dataset.batch(32).prefetch(tf.data.AUTOTUNE)"
      ],
      "metadata": {
        "id": "keYTpN88L3t8"
      },
      "execution_count": 45,
      "outputs": []
    },
    {
      "cell_type": "markdown",
      "source": [
        "## Model 1: CONV1D + Token Embeddings"
      ],
      "metadata": {
        "id": "9pLkvdXpNhJh"
      }
    },
    {
      "cell_type": "code",
      "source": [
        "# Create model\n",
        "inputs = layers.Input(shape=(1,),dtype='string')\n",
        "x = text_vectorizer(inputs)\n",
        "x = embedding_layer(x)\n",
        "x = layers.Conv1D(128,kernel_size=5,padding='same',activation='relu')(x)\n",
        "x = layers.GlobalAveragePooling1D()(x)\n",
        "outputs = layers.Dense(num_classes,activation='softmax')(x)\n",
        "model_1 = keras.Model(inputs,outputs)\n",
        "# Compile model and summary\n",
        "model_1.compile(loss='categorical_crossentropy',\n",
        "                optimizer='Adam',metrics=['accuracy'])\n",
        "model_1.summary()"
      ],
      "metadata": {
        "id": "5PUTDjW6NwZI",
        "outputId": "ca885bf1-7be0-48a6-f5ce-04180dfee165",
        "colab": {
          "base_uri": "https://localhost:8080/"
        }
      },
      "execution_count": 50,
      "outputs": [
        {
          "output_type": "stream",
          "name": "stdout",
          "text": [
            "Model: \"model\"\n",
            "_________________________________________________________________\n",
            " Layer (type)                Output Shape              Param #   \n",
            "=================================================================\n",
            " input_1 (InputLayer)        [(None, 1)]               0         \n",
            "                                                                 \n",
            " text_vectorization (TextVec  (None, 122)              0         \n",
            " torization)                                                     \n",
            "                                                                 \n",
            " embedding_layer (Embedding)  (None, 122, 512)         33198592  \n",
            "                                                                 \n",
            " conv1d (Conv1D)             (None, 122, 128)          327808    \n",
            "                                                                 \n",
            " global_average_pooling1d (G  (None, 128)              0         \n",
            " lobalAveragePooling1D)                                          \n",
            "                                                                 \n",
            " dense (Dense)               (None, 5)                 645       \n",
            "                                                                 \n",
            "=================================================================\n",
            "Total params: 33,527,045\n",
            "Trainable params: 33,527,045\n",
            "Non-trainable params: 0\n",
            "_________________________________________________________________\n"
          ]
        }
      ]
    },
    {
      "cell_type": "code",
      "source": [
        "history_model_1 = model_1.fit(train_dataset,\n",
        "                              epochs=5,\n",
        "                              validation_data=dev_dataset)"
      ],
      "metadata": {
        "id": "qwe94kNlPy7p",
        "outputId": "f2133b1c-85eb-4752-fdc4-04302185e658",
        "colab": {
          "base_uri": "https://localhost:8080/"
        }
      },
      "execution_count": 51,
      "outputs": [
        {
          "output_type": "stream",
          "name": "stdout",
          "text": [
            "Epoch 1/5\n",
            "5627/5627 [==============================] - 142s 23ms/step - loss: 0.5985 - accuracy: 0.7825 - val_loss: 0.5306 - val_accuracy: 0.8092\n",
            "Epoch 2/5\n",
            "5627/5627 [==============================] - 130s 23ms/step - loss: 0.4333 - accuracy: 0.8481 - val_loss: 0.5359 - val_accuracy: 0.8099\n",
            "Epoch 3/5\n",
            "5627/5627 [==============================] - 130s 23ms/step - loss: 0.3347 - accuracy: 0.8870 - val_loss: 0.5985 - val_accuracy: 0.8053\n",
            "Epoch 4/5\n",
            "5627/5627 [==============================] - 129s 23ms/step - loss: 0.2501 - accuracy: 0.9190 - val_loss: 0.7097 - val_accuracy: 0.7918\n",
            "Epoch 5/5\n",
            "5627/5627 [==============================] - 129s 23ms/step - loss: 0.1850 - accuracy: 0.9422 - val_loss: 0.8469 - val_accuracy: 0.7815\n"
          ]
        }
      ]
    },
    {
      "cell_type": "markdown",
      "source": [
        "From the 3rd epoch, the model is overfitting..."
      ],
      "metadata": {
        "id": "AtIo4QMGS_4w"
      }
    },
    {
      "cell_type": "code",
      "source": [
        ""
      ],
      "metadata": {
        "id": "JkzZgSNXTFOW"
      },
      "execution_count": null,
      "outputs": []
    }
  ]
}