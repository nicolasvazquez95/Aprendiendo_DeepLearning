{
  "nbformat": 4,
  "nbformat_minor": 0,
  "metadata": {
    "colab": {
      "name": "03_BitPredict_TimeSeries.ipynb",
      "provenance": [],
      "authorship_tag": "ABX9TyOd3pqnG1FZHE0skwhKRmI0",
      "include_colab_link": true
    },
    "kernelspec": {
      "name": "python3",
      "display_name": "Python 3"
    },
    "language_info": {
      "name": "python"
    },
    "accelerator": "GPU"
  },
  "cells": [
    {
      "cell_type": "markdown",
      "metadata": {
        "id": "view-in-github",
        "colab_type": "text"
      },
      "source": [
        "<a href=\"https://colab.research.google.com/github/nicolasvazquez95/Aprendiendo_DeepLearning/blob/main/projects/03_BitPredict_TimeSeries.ipynb\" target=\"_parent\"><img src=\"https://colab.research.google.com/assets/colab-badge.svg\" alt=\"Open In Colab\"/></a>"
      ]
    },
    {
      "cell_type": "markdown",
      "source": [
        "# BitPredict Project: Time series & Deep Learning\n",
        "_Forecasting Bitcoin prices_ 💰"
      ],
      "metadata": {
        "id": "49JbhJWJE9ey"
      }
    },
    {
      "cell_type": "code",
      "source": [
        "## Get data (Bitcoin price data)\n",
        "## Link: coindesk.com"
      ],
      "metadata": {
        "id": "kVuJrrZHFGa2"
      },
      "execution_count": null,
      "outputs": []
    }
  ]
}