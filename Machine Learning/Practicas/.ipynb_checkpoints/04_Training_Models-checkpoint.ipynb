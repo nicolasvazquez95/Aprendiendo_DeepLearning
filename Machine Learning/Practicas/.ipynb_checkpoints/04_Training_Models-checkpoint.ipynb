{
 "cells": [
  {
   "cell_type": "code",
   "execution_count": 1,
   "id": "36aebded",
   "metadata": {},
   "outputs": [],
   "source": [
    "import numpy as np\n",
    "from matplotlib import pyplot as plt\n",
    "\n",
    "# Softmax\n",
    "from scipy.special import softmax\n",
    "# Vale usar el one hot encoder de Scikit?\n",
    "from sklearn.preprocessing import OneHotEncoder\n",
    "from sklearn.datasets import fetch_openml"
   ]
  },
  {
   "cell_type": "markdown",
   "id": "320065cb",
   "metadata": {},
   "source": [
    "# Ejercicios\n",
    "12. Implement Batch Gradient Descent with early stopping for Softmax Regression (without using Scikit-Learn)."
   ]
  },
  {
   "cell_type": "markdown",
   "id": "fed8067b",
   "metadata": {},
   "source": [
    "Supongamos que tenemos algún par `X_train/X_test,y_train/y_test`, con features/labels respectivamente, y con sets de entrenamiento/validación. El objetivo es entrenar un clasificador multiclase mediante descenso de gradiente por minibatch.\n",
    "\n",
    "_Para test, usamos MNIST Dataset_"
   ]
  },
  {
   "cell_type": "code",
   "execution_count": 2,
   "id": "9b81a13e",
   "metadata": {},
   "outputs": [],
   "source": [
    "X_train,y_train = fetch_openml('mnist_784',\n",
    "                               return_X_y=True,as_frame=False)"
   ]
  },
  {
   "cell_type": "code",
   "execution_count": 54,
   "id": "5da1660f",
   "metadata": {},
   "outputs": [],
   "source": [
    "def trainBGD(X_train,y_train,eta0=0.01,n_epochs=50,epsilon=1e-12):\n",
    "    # Inicializamos pesos aleatorios\n",
    "    n_instances, n_features = X_train.shape\n",
    "    # Del vector de labels, extraemos el nro de clases y las diferentes clases (esto por las dudas)\n",
    "    # Nos conviene para calcular J convertir los labels con un OneHotEncoder\n",
    "    OHE = OneHotEncoder()\n",
    "    y_train_OHE = OHE.fit_transform(y_train.reshape(-1,1))\n",
    "    n_classes = y_train_OHE.shape[1]\n",
    "    # Lista de vectores theta para cada clase k (0<= k <n_classes)\n",
    "    Theta = np.random.randn(n_features,n_classes)\n",
    "    J_epoch = []\n",
    "    for epoch in range(n_epochs):\n",
    "        # Calculo de scores y prob\n",
    "        Sk = np.dot(X_train,Theta)\n",
    "        # Acotado Pk, para evitar inf en log\n",
    "        Pk = np.clip(softmax(Sk,axis=1),epsilon,None)\n",
    "        # Cálculo de J\n",
    "        J = (-1/n_features)*np.dot(y_train_OHE.toarray().transpose(),np.log(Pk)).sum()\n",
    "        J_epoch.append(J)\n",
    "        # Actualización de los pesos \n",
    "        J_grad = "
   ]
  },
  {
   "cell_type": "code",
   "execution_count": 5,
   "id": "227f2945",
   "metadata": {},
   "outputs": [],
   "source": [
    "n_instances, n_features = X_train.shape\n",
    "OHE = OneHotEncoder()\n",
    "y_train_OHE = OHE.fit_transform(y_train.reshape(-1,1))\n",
    "n_classes = y_train_OHE.shape[1]\n",
    "Theta = np.random.randn(n_features,n_classes)"
   ]
  },
  {
   "cell_type": "code",
   "execution_count": 8,
   "id": "2c686502",
   "metadata": {},
   "outputs": [],
   "source": [
    "J_epoch = []\n",
    "#Parámetros en función (borrar)\n",
    "epsilon = 1e-12"
   ]
  },
  {
   "cell_type": "code",
   "execution_count": 9,
   "id": "53458965",
   "metadata": {},
   "outputs": [],
   "source": [
    "# Calculo de scores y prob\n",
    "Sk = np.dot(X_train,Theta)\n",
    "# Acotado Pk, para evitar inf en log\n",
    "Pk = np.clip(softmax(Sk,axis=1),epsilon,None)\n",
    "# Cálculo de J\n",
    "J = (-1/n_features)*np.dot(y_train_OHE.toarray().transpose(),np.log(Pk)).sum()\n",
    "J_epoch.append(J)"
   ]
  },
  {
   "cell_type": "code",
   "execution_count": 24,
   "id": "f1a9af1c",
   "metadata": {},
   "outputs": [
    {
     "data": {
      "text/plain": [
       "(70000, 784)"
      ]
     },
     "execution_count": 24,
     "metadata": {},
     "output_type": "execute_result"
    }
   ],
   "source": [
    "# Actualización de los pesos\n",
    "X_train.shape"
   ]
  },
  {
   "cell_type": "code",
   "execution_count": 20,
   "id": "326d12ea",
   "metadata": {},
   "outputs": [
    {
     "data": {
      "text/plain": [
       "(784, 10)"
      ]
     },
     "execution_count": 20,
     "metadata": {},
     "output_type": "execute_result"
    }
   ],
   "source": []
  }
 ],
 "metadata": {
  "kernelspec": {
   "display_name": "Python 3 (ipykernel)",
   "language": "python",
   "name": "python3"
  },
  "language_info": {
   "codemirror_mode": {
    "name": "ipython",
    "version": 3
   },
   "file_extension": ".py",
   "mimetype": "text/x-python",
   "name": "python",
   "nbconvert_exporter": "python",
   "pygments_lexer": "ipython3",
   "version": "3.8.12"
  }
 },
 "nbformat": 4,
 "nbformat_minor": 5
}
