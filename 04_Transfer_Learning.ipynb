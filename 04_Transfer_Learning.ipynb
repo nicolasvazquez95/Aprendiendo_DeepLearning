{
  "nbformat": 4,
  "nbformat_minor": 0,
  "metadata": {
    "colab": {
      "name": "04_Transfer_Learning.ipynb",
      "provenance": [],
      "authorship_tag": "ABX9TyNuH+0DcghoblW+0qqfKfvY",
      "include_colab_link": true
    },
    "kernelspec": {
      "name": "python3",
      "display_name": "Python 3"
    },
    "language_info": {
      "name": "python"
    },
    "accelerator": "GPU"
  },
  "cells": [
    {
      "cell_type": "markdown",
      "metadata": {
        "id": "view-in-github",
        "colab_type": "text"
      },
      "source": [
        "<a href=\"https://colab.research.google.com/github/nicolasvazquez95/Aprendiendo_DeepLearning/blob/main/04_Transfer_Learning.ipynb\" target=\"_parent\"><img src=\"https://colab.research.google.com/assets/colab-badge.svg\" alt=\"Open In Colab\"/></a>"
      ]
    },
    {
      "cell_type": "code",
      "execution_count": null,
      "metadata": {
        "colab": {
          "base_uri": "https://localhost:8080/"
        },
        "id": "952xGOXsBR8z",
        "outputId": "315f39d5-af79-4767-b7f0-9d4226c5bd58"
      },
      "outputs": [
        {
          "output_type": "stream",
          "name": "stdout",
          "text": [
            "Fri Jan 21 20:37:27 2022       \n",
            "+-----------------------------------------------------------------------------+\n",
            "| NVIDIA-SMI 495.46       Driver Version: 460.32.03    CUDA Version: 11.2     |\n",
            "|-------------------------------+----------------------+----------------------+\n",
            "| GPU  Name        Persistence-M| Bus-Id        Disp.A | Volatile Uncorr. ECC |\n",
            "| Fan  Temp  Perf  Pwr:Usage/Cap|         Memory-Usage | GPU-Util  Compute M. |\n",
            "|                               |                      |               MIG M. |\n",
            "|===============================+======================+======================|\n",
            "|   0  Tesla T4            Off  | 00000000:00:04.0 Off |                    0 |\n",
            "| N/A   48C    P8    10W /  70W |      0MiB / 15109MiB |      0%      Default |\n",
            "|                               |                      |                  N/A |\n",
            "+-------------------------------+----------------------+----------------------+\n",
            "                                                                               \n",
            "+-----------------------------------------------------------------------------+\n",
            "| Processes:                                                                  |\n",
            "|  GPU   GI   CI        PID   Type   Process name                  GPU Memory |\n",
            "|        ID   ID                                                   Usage      |\n",
            "|=============================================================================|\n",
            "|  No running processes found                                                 |\n",
            "+-----------------------------------------------------------------------------+\n"
          ]
        }
      ],
      "source": [
        "!nvidia-smi"
      ]
    },
    {
      "cell_type": "code",
      "source": [
        "# Download data\n",
        "import zipfile\n",
        "\n",
        "!wget https://storage.googleapis.com/ztm_tf_course/food_vision/10_food_classes_10_percent.zip\n",
        "\n",
        "zip_ref = zipfile.ZipFile(\"10_food_classes_10_percent.zip\")\n",
        "zip_ref.extractall()\n",
        "zip_ref.close()"
      ],
      "metadata": {
        "colab": {
          "base_uri": "https://localhost:8080/"
        },
        "id": "C5iRpWAqCAzd",
        "outputId": "f986e3e5-a74a-4a77-eb0a-c714ced373e5"
      },
      "execution_count": null,
      "outputs": [
        {
          "output_type": "stream",
          "name": "stdout",
          "text": [
            "--2022-01-21 20:37:27--  https://storage.googleapis.com/ztm_tf_course/food_vision/10_food_classes_10_percent.zip\n",
            "Resolving storage.googleapis.com (storage.googleapis.com)... 173.194.211.128, 173.194.212.128, 173.194.213.128, ...\n",
            "Connecting to storage.googleapis.com (storage.googleapis.com)|173.194.211.128|:443... connected.\n",
            "HTTP request sent, awaiting response... 200 OK\n",
            "Length: 168546183 (161M) [application/zip]\n",
            "Saving to: ‘10_food_classes_10_percent.zip’\n",
            "\n",
            "10_food_classes_10_ 100%[===================>] 160.74M   265MB/s    in 0.6s    \n",
            "\n",
            "2022-01-21 20:37:28 (265 MB/s) - ‘10_food_classes_10_percent.zip’ saved [168546183/168546183]\n",
            "\n"
          ]
        }
      ]
    },
    {
      "cell_type": "code",
      "source": [
        "import tensorflow as tf\n",
        "from tensorflow import keras as keras\n",
        "from keras.preprocessing.image import ImageDataGenerator\n",
        "\n",
        "IMAGE_SHAPE = (224,224)\n",
        "BATCH_SIZE = 32\n",
        "\n",
        "train_dir = '10_food_classes_10_percent/train/'\n",
        "test_dir = '10_food_classes_10_percent/test/'\n",
        "\n",
        "train_datagen = ImageDataGenerator(rescale=1/255.)\n",
        "test_datagen = ImageDataGenerator(rescale=1/255.)\n",
        "\n",
        "train_data = train_datagen.flow_from_directory(train_dir,\n",
        "                                               target_size=IMAGE_SHAPE,\n",
        "                                               batch_size=BATCH_SIZE,\n",
        "                                               class_mode='categorical')\n",
        "test_data = test_datagen.flow_from_directory(test_dir,\n",
        "                                             target_size=IMAGE_SHAPE,\n",
        "                                             batch_size=BATCH_SIZE,\n",
        "                                             class_mode='categorical')"
      ],
      "metadata": {
        "colab": {
          "base_uri": "https://localhost:8080/"
        },
        "id": "uKUiC2fVC2MT",
        "outputId": "f43194fd-a7b8-474d-cdec-6692d2f8f0bd"
      },
      "execution_count": null,
      "outputs": [
        {
          "output_type": "stream",
          "name": "stdout",
          "text": [
            "Found 750 images belonging to 10 classes.\n",
            "Found 2500 images belonging to 10 classes.\n"
          ]
        }
      ]
    },
    {
      "cell_type": "markdown",
      "source": [
        "# TensorBoard Callback"
      ],
      "metadata": {
        "id": "zfLbEOfzEsLe"
      }
    },
    {
      "cell_type": "code",
      "source": [
        "import datetime\n",
        "def create_tensorboard_callback(dir_name,experiment_name):\n",
        "  log_dir = dir_name + '/' + experiment_name + '/' + datetime.datetime.now().strftime('%Y%m%d-%H%M%S')\n",
        "  tensorboard_callback = keras.callbacks.TensorBoard(log_dir=log_dir)\n",
        "  print(f'Saving Tensorboard log files to {log_dir}')\n",
        "  return tensorboard_callback"
      ],
      "metadata": {
        "id": "YzcW9Y5eGEB2"
      },
      "execution_count": null,
      "outputs": []
    },
    {
      "cell_type": "code",
      "source": [
        "# Get the pretrained models from TF Hub\n",
        "resnet_url = 'https://tfhub.dev/google/imagenet/resnet_v2_50/feature_vector/4'\n",
        "efficientnet_url = 'https://tfhub.dev/google/efficientnet/b0/feature-vector/1'\n",
        "\n",
        "import tensorflow_hub as hub\n",
        "from keras import layers"
      ],
      "metadata": {
        "id": "bO-_MhidH5JF"
      },
      "execution_count": null,
      "outputs": []
    },
    {
      "cell_type": "code",
      "source": [
        "def create_model(model_url, num_classes=10):\n",
        "  \"\"\"Takes a TensorFlow Hub URL and creates a Keras Sequential model with it.\n",
        "  \n",
        "  Args:\n",
        "    model_url (str): A TensorFlow Hub feature extraction URL.\n",
        "    num_classes (int): Number of output neurons in output layer,\n",
        "      should be equal to number of target classes, default 10.\n",
        "\n",
        "  Returns:\n",
        "    An uncompiled Keras Sequential model with model_url as feature\n",
        "    extractor layer and Dense output layer with num_classes outputs.\n",
        "  \"\"\"\n",
        "  # Download the pretrained model and save it as a Keras layer\n",
        "  feature_extractor_layer = hub.KerasLayer(model_url,\n",
        "                                           trainable=False, # freeze the underlying patterns\n",
        "                                           name='feature_extraction_layer',\n",
        "                                           input_shape=IMAGE_SHAPE+(3,)) # define the input image shape\n",
        "  \n",
        "  # Create our own model\n",
        "  model = tf.keras.Sequential([\n",
        "    feature_extractor_layer, # use the feature extraction layer as the base\n",
        "    layers.Dense(num_classes, activation='softmax', name='output_layer') # create our own output layer      \n",
        "  ])\n",
        "\n",
        "  return model"
      ],
      "metadata": {
        "id": "0I8_OP8yPcXt"
      },
      "execution_count": null,
      "outputs": []
    },
    {
      "cell_type": "code",
      "source": [
        "# Create model\n",
        "resnet_model = create_model(resnet_url, num_classes=train_data.num_classes)\n",
        "\n",
        "# Compile\n",
        "resnet_model.compile(loss='categorical_crossentropy',\n",
        "                     optimizer=tf.keras.optimizers.Adam(),\n",
        "                     metrics=['accuracy'])"
      ],
      "metadata": {
        "id": "FP7D13umSBnH"
      },
      "execution_count": null,
      "outputs": []
    },
    {
      "cell_type": "code",
      "source": [
        "resnet_model.summary()"
      ],
      "metadata": {
        "colab": {
          "base_uri": "https://localhost:8080/"
        },
        "id": "lO7kPggBSZFx",
        "outputId": "09db5f9b-9002-4d95-992a-2ab19b0c8b42"
      },
      "execution_count": null,
      "outputs": [
        {
          "output_type": "stream",
          "name": "stdout",
          "text": [
            "Model: \"sequential\"\n",
            "_________________________________________________________________\n",
            " Layer (type)                Output Shape              Param #   \n",
            "=================================================================\n",
            " feature_extraction_layer (K  (None, 2048)             23564800  \n",
            " erasLayer)                                                      \n",
            "                                                                 \n",
            " output_layer (Dense)        (None, 10)                20490     \n",
            "                                                                 \n",
            "=================================================================\n",
            "Total params: 23,585,290\n",
            "Trainable params: 20,490\n",
            "Non-trainable params: 23,564,800\n",
            "_________________________________________________________________\n"
          ]
        }
      ]
    },
    {
      "cell_type": "code",
      "source": [
        "resnet_history = resnet_model.fit(train_data,\n",
        "                 epochs=10,\n",
        "                 steps_per_epoch=len(train_data),\n",
        "                 validation_data=test_data,validation_steps=len(test_data),\n",
        "                 callbacks=[create_tensorboard_callback('tensorflow_hub','resnet50v2')])"
      ],
      "metadata": {
        "colab": {
          "base_uri": "https://localhost:8080/"
        },
        "id": "D-vqhIABS5yM",
        "outputId": "f90c89cb-639a-4ec0-8768-776de6dff6f7"
      },
      "execution_count": null,
      "outputs": [
        {
          "output_type": "stream",
          "name": "stdout",
          "text": [
            "Saving Tensorboard log files to tensorflow_hub/resnet50v2/20220121-203739\n",
            "Epoch 1/10\n",
            "24/24 [==============================] - 32s 795ms/step - loss: 1.9922 - accuracy: 0.3360 - val_loss: 1.2474 - val_accuracy: 0.5988\n",
            "Epoch 2/10\n",
            "24/24 [==============================] - 17s 718ms/step - loss: 0.9221 - accuracy: 0.7147 - val_loss: 0.8908 - val_accuracy: 0.7092\n",
            "Epoch 3/10\n",
            "24/24 [==============================] - 17s 734ms/step - loss: 0.6386 - accuracy: 0.8200 - val_loss: 0.7715 - val_accuracy: 0.7488\n",
            "Epoch 4/10\n",
            "24/24 [==============================] - 17s 741ms/step - loss: 0.4906 - accuracy: 0.8587 - val_loss: 0.7058 - val_accuracy: 0.7688\n",
            "Epoch 5/10\n",
            "24/24 [==============================] - 17s 738ms/step - loss: 0.3876 - accuracy: 0.9067 - val_loss: 0.6827 - val_accuracy: 0.7768\n",
            "Epoch 6/10\n",
            "24/24 [==============================] - 18s 756ms/step - loss: 0.3210 - accuracy: 0.9413 - val_loss: 0.6640 - val_accuracy: 0.7800\n",
            "Epoch 7/10\n",
            "24/24 [==============================] - 17s 736ms/step - loss: 0.2637 - accuracy: 0.9493 - val_loss: 0.6466 - val_accuracy: 0.7828\n",
            "Epoch 8/10\n",
            "24/24 [==============================] - 17s 730ms/step - loss: 0.2252 - accuracy: 0.9627 - val_loss: 0.6324 - val_accuracy: 0.7900\n",
            "Epoch 9/10\n",
            "24/24 [==============================] - 17s 733ms/step - loss: 0.1931 - accuracy: 0.9787 - val_loss: 0.6370 - val_accuracy: 0.7820\n",
            "Epoch 10/10\n",
            "24/24 [==============================] - 17s 724ms/step - loss: 0.1643 - accuracy: 0.9867 - val_loss: 0.6236 - val_accuracy: 0.7944\n"
          ]
        }
      ]
    },
    {
      "cell_type": "code",
      "source": [
        "# Plot the validation and training data separately\n",
        "from matplotlib import pyplot as plt\n",
        "def plot_loss_curves(history):\n",
        "  \"\"\"\n",
        "  Returns separate loss curves for training and validation metrics.\n",
        "  \"\"\" \n",
        "  loss = history.history['loss']\n",
        "  val_loss = history.history['val_loss']\n",
        "\n",
        "  accuracy = history.history['accuracy']\n",
        "  val_accuracy = history.history['val_accuracy']\n",
        "\n",
        "  epochs = range(len(history.history['loss']))\n",
        "\n",
        "  # Plot loss\n",
        "  fig, (ax1, ax2) = plt.subplots(1, 2,figsize=(13,6))\n",
        "\n",
        "  ax1.plot(epochs, loss,'--o', label='training_loss')\n",
        "  ax1.plot(epochs, val_loss,'--o', label='val_loss')\n",
        "  ax1.set_title('Loss')\n",
        "  ax1.set_xlabel('Epochs')\n",
        "  ax1.grid()\n",
        "  ax1.legend()\n",
        "\n",
        "  # Plot accuracy\n",
        "  ax2.plot(epochs, accuracy,'--o', label='training_accuracy')\n",
        "  ax2.plot(epochs, val_accuracy,'--o', label='val_accuracy')\n",
        "  ax2.set_title('Accuracy')\n",
        "  ax2.set_xlabel('Epochs')\n",
        "  ax2.grid()\n",
        "  ax2.legend();"
      ],
      "metadata": {
        "id": "pX3A4_1KsBo8"
      },
      "execution_count": null,
      "outputs": []
    },
    {
      "cell_type": "code",
      "source": [
        "plot_loss_curves(resnet_history)"
      ],
      "metadata": {
        "colab": {
          "base_uri": "https://localhost:8080/",
          "height": 404
        },
        "id": "LPtonk-S6Ggq",
        "outputId": "b9024c0a-f943-4550-b62d-aed26c43a1c7"
      },
      "execution_count": null,
      "outputs": [
        {
          "output_type": "display_data",
          "data": {
            "image/png": "[encoded data removed]",
            "text/plain": [
              "<Figure size 936x432 with 2 Axes>"
            ]
          },
          "metadata": {
            "needs_background": "light"
          }
        }
      ]
    },
    {
      "cell_type": "code",
      "source": [
        "# Efficient Net pretrained model\n",
        "efficient_model = create_model(efficientnet_url)\n",
        "\n",
        "efficient_model.compile(loss='categorical_crossentropy',\n",
        "                        optimizer=keras.optimizers.Adam(),\n",
        "                        metrics=['accuracy'])"
      ],
      "metadata": {
        "id": "M2MtAar67zdV"
      },
      "execution_count": null,
      "outputs": []
    },
    {
      "cell_type": "code",
      "source": [
        "efficient_history = efficient_model.fit(train_data,epochs=10,steps_per_epoch=len(train_data),\n",
        "                    validation_data=test_data,validation_steps=len(test_data),\n",
        "                    callbacks=[create_tensorboard_callback('tensorflow_hub','efficientnetb0')])"
      ],
      "metadata": {
        "colab": {
          "base_uri": "https://localhost:8080/"
        },
        "id": "PysB_dhD8JZU",
        "outputId": "0476ca27-49d1-4d48-8642-d3619c575c64"
      },
      "execution_count": null,
      "outputs": [
        {
          "output_type": "stream",
          "name": "stdout",
          "text": [
            "Saving Tensorboard log files to tensorflow_hub/efficientnetb0/20220121-204050\n",
            "Epoch 1/10\n",
            "24/24 [==============================] - 21s 751ms/step - loss: 1.7715 - accuracy: 0.5107 - val_loss: 1.2403 - val_accuracy: 0.7532\n",
            "Epoch 2/10\n",
            "24/24 [==============================] - 16s 686ms/step - loss: 1.0195 - accuracy: 0.8040 - val_loss: 0.8414 - val_accuracy: 0.8244\n",
            "Epoch 3/10\n",
            "24/24 [==============================] - 16s 678ms/step - loss: 0.7317 - accuracy: 0.8573 - val_loss: 0.6834 - val_accuracy: 0.8484\n",
            "Epoch 4/10\n",
            "24/24 [==============================] - 16s 684ms/step - loss: 0.5897 - accuracy: 0.8827 - val_loss: 0.6008 - val_accuracy: 0.8568\n",
            "Epoch 5/10\n",
            "24/24 [==============================] - 16s 695ms/step - loss: 0.4999 - accuracy: 0.8973 - val_loss: 0.5473 - val_accuracy: 0.8656\n",
            "Epoch 6/10\n",
            "24/24 [==============================] - 16s 685ms/step - loss: 0.4350 - accuracy: 0.9107 - val_loss: 0.5152 - val_accuracy: 0.8712\n",
            "Epoch 7/10\n",
            "24/24 [==============================] - 16s 678ms/step - loss: 0.3832 - accuracy: 0.9253 - val_loss: 0.4926 - val_accuracy: 0.8708\n",
            "Epoch 8/10\n",
            "24/24 [==============================] - 16s 680ms/step - loss: 0.3398 - accuracy: 0.9347 - val_loss: 0.4721 - val_accuracy: 0.8728\n",
            "Epoch 9/10\n",
            "24/24 [==============================] - 16s 683ms/step - loss: 0.3069 - accuracy: 0.9480 - val_loss: 0.4580 - val_accuracy: 0.8744\n",
            "Epoch 10/10\n",
            "24/24 [==============================] - 16s 668ms/step - loss: 0.2769 - accuracy: 0.9587 - val_loss: 0.4442 - val_accuracy: 0.8752\n"
          ]
        }
      ]
    },
    {
      "cell_type": "code",
      "source": [
        "plot_loss_curves(efficient_history)"
      ],
      "metadata": {
        "colab": {
          "base_uri": "https://localhost:8080/",
          "height": 404
        },
        "id": "QNL6b_0E9_-c",
        "outputId": "52cca8e1-d2a7-4d78-e2ff-ad5c5025212e"
      },
      "execution_count": null,
      "outputs": [
        {
          "output_type": "display_data",
          "data": {
            "image/png": "[encoded data removed]",
            "text/plain": [
              "<Figure size 936x432 with 2 Axes>"
            ]
          },
          "metadata": {
            "needs_background": "light"
          }
        }
      ]
    },
    {
      "cell_type": "markdown",
      "source": [
        "# TensorBoard\n",
        "\n"
      ],
      "metadata": {
        "id": "_RccCG8PWWAb"
      }
    },
    {
      "cell_type": "code",
      "source": [
        "!tensorboard dev upload --logdir ./tensorflow_hub/ --name \"Efficient vs. ResNet\" \\\n",
        "  --description \"Comparing 2 TF_HUB feature extraction model architectures\" \\\n",
        "  --one_shot"
      ],
      "metadata": {
        "colab": {
          "base_uri": "https://localhost:8080/"
        },
        "id": "zQZ8y346WZD1",
        "outputId": "c42c9065-2b87-4806-9d32-7a891074930e"
      },
      "execution_count": null,
      "outputs": [
        {
          "output_type": "stream",
          "name": "stdout",
          "text": [
            "\n",
            "***** TensorBoard Uploader *****\n",
            "\n",
            "This will upload your TensorBoard logs to https://tensorboard.dev/ from\n",
            "the following directory:\n",
            "\n",
            "./tensorflow_hub/\n",
            "\n",
            "This TensorBoard will be visible to everyone. Do not upload sensitive\n",
            "data.\n",
            "\n",
            "Your use of this service is subject to Google's Terms of Service\n",
            "<https://policies.google.com/terms> and Privacy Policy\n",
            "<https://policies.google.com/privacy>, and TensorBoard.dev's Terms of Service\n",
            "<https://tensorboard.dev/policy/terms/>.\n",
            "\n",
            "This notice will not be shown again while you are logged into the uploader.\n",
            "To log out, run `tensorboard dev auth revoke`.\n",
            "\n",
            "Continue? (yes/NO) yes\n",
            "\n",
            "Please visit this URL to authorize this application: https://accounts.google.com/o/oauth2/auth?response_type=code&client_id=373649185512-8v619h5kft38l4456nm2dj4ubeqsrvh6.apps.googleusercontent.com&redirect_uri=urn%3Aietf%3Awg%3Aoauth%3A2.0%3Aoob&scope=openid+https%3A%2F%2Fwww.googleapis.com%2Fauth%2Fuserinfo.email&state=jTsGf8yyY4BOYc8hbXPSSFTVIaNp5j&prompt=consent&access_type=offline\n",
            "Enter the authorization code: 4/1AX4XfWgCEevOhFNu51ImKZ2cav-0qJDNhyArNORa5ZP0Tenp62mTHM0JCK0\n",
            "\n",
            "\n",
            "New experiment created. View your TensorBoard at: https://tensorboard.dev/experiment/vkmP1zenQz6hk4evfqlnPg/\n",
            "\n",
            "\u001b[1m[2022-01-21T20:48:18]\u001b[0m Started scanning logdir.\n",
            "\u001b[1m[2022-01-21T20:48:20]\u001b[0m Total uploaded: 120 scalars, 0 tensors, 2 binary objects (3.1 MB)\n",
            "\u001b[1m[2022-01-21T20:48:20]\u001b[0m Done scanning logdir.\n",
            "\n",
            "\n",
            "Done. View your TensorBoard at https://tensorboard.dev/experiment/vkmP1zenQz6hk4evfqlnPg/\n"
          ]
        }
      ]
    },
    {
      "cell_type": "markdown",
      "source": [
        "# Exercises\n",
        "Build and fit a model using the same data we have here but with the MobileNetV2 architecture feature extraction ([mobilenet_v2_100_224/feature_vector](https://tfhub.dev/google/imagenet/mobilenet_v2_100_224/feature_vector/5)) from TensorFlow Hub, how does it perform compared to our other models?"
      ],
      "metadata": {
        "id": "9otC_uY9gKdr"
      }
    },
    {
      "cell_type": "code",
      "source": [
        "mobilenet_url = 'https://tfhub.dev/google/imagenet/mobilenet_v2_100_224/feature_vector/5'\n",
        "mobilenet_model = create_model(mobilenet_url)\n",
        "\n",
        "mobilenet_model.compile(loss='categorical_crossentropy',\n",
        "                        optimizer=keras.optimizers.Adam(),\n",
        "                        metrics=['accuracy'])"
      ],
      "metadata": {
        "id": "5qL6W_Mugh51"
      },
      "execution_count": null,
      "outputs": []
    },
    {
      "cell_type": "code",
      "source": [
        "mobilenet_model.fit(train_data,epochs=10,\n",
        "                    callbacks=[create_tensorboard_callback('tensorflow_hub','MobileNet')],\n",
        "                    steps_per_epoch=len(train_data),\n",
        "                    validation_data=test_data,validation_steps=len(test_data),\n",
        "                    )"
      ],
      "metadata": {
        "colab": {
          "base_uri": "https://localhost:8080/"
        },
        "id": "K5U1IcQHhhkH",
        "outputId": "b81f3da8-3e23-4674-bb6b-871b9e367617"
      },
      "execution_count": null,
      "outputs": [
        {
          "output_type": "stream",
          "name": "stdout",
          "text": [
            "Saving Tensorboard log files to tensorflow_hub/MobileNet/20220121-212607\n",
            "Epoch 1/10\n",
            "24/24 [==============================] - 21s 741ms/step - loss: 2.0961 - accuracy: 0.2840 - val_loss: 1.3690 - val_accuracy: 0.5928\n",
            "Epoch 2/10\n",
            "24/24 [==============================] - 16s 694ms/step - loss: 1.1166 - accuracy: 0.6653 - val_loss: 0.9100 - val_accuracy: 0.7388\n",
            "Epoch 3/10\n",
            "24/24 [==============================] - 16s 695ms/step - loss: 0.7654 - accuracy: 0.7920 - val_loss: 0.7698 - val_accuracy: 0.7648\n",
            "Epoch 4/10\n",
            "24/24 [==============================] - 16s 695ms/step - loss: 0.6104 - accuracy: 0.8480 - val_loss: 0.6972 - val_accuracy: 0.7892\n",
            "Epoch 5/10\n",
            "24/24 [==============================] - 16s 693ms/step - loss: 0.5162 - accuracy: 0.8773 - val_loss: 0.6403 - val_accuracy: 0.8020\n",
            "Epoch 6/10\n",
            "24/24 [==============================] - 16s 699ms/step - loss: 0.4312 - accuracy: 0.9013 - val_loss: 0.6368 - val_accuracy: 0.8000\n",
            "Epoch 7/10\n",
            "24/24 [==============================] - 16s 684ms/step - loss: 0.3710 - accuracy: 0.9253 - val_loss: 0.6018 - val_accuracy: 0.8016\n",
            "Epoch 8/10\n",
            "24/24 [==============================] - 16s 688ms/step - loss: 0.3203 - accuracy: 0.9480 - val_loss: 0.5829 - val_accuracy: 0.8128\n",
            "Epoch 9/10\n",
            "24/24 [==============================] - 16s 686ms/step - loss: 0.2832 - accuracy: 0.9547 - val_loss: 0.5681 - val_accuracy: 0.8248\n",
            "Epoch 10/10\n",
            "24/24 [==============================] - 16s 689ms/step - loss: 0.2477 - accuracy: 0.9693 - val_loss: 0.5586 - val_accuracy: 0.8184\n"
          ]
        },
        {
          "output_type": "execute_result",
          "data": {
            "text/plain": [
              "<keras.callbacks.History at 0x7f4402d12e50>"
            ]
          },
          "metadata": {},
          "execution_count": 20
        }
      ]
    },
    {
      "cell_type": "code",
      "source": [
        "!tensorboard dev upload --logdir ./tensorflow_hub/ --name \"Efficient vs. ResNet vs. MobileNet\" \\\n",
        "  --description \"Comparing 3 TF_HUB feature extraction model architectures\" \\\n",
        "  --one_shot"
      ],
      "metadata": {
        "colab": {
          "base_uri": "https://localhost:8080/"
        },
        "id": "7vn62OI7jCsM",
        "outputId": "1b3e10ab-c836-4dbc-f0f9-40ad60cb293a"
      },
      "execution_count": null,
      "outputs": [
        {
          "output_type": "stream",
          "name": "stdout",
          "text": [
            "\n",
            "New experiment created. View your TensorBoard at: https://tensorboard.dev/experiment/kYlr6u7bRb6TgFKD1UJ8tg/\n",
            "\n",
            "\u001b[1m[2022-01-21T21:30:37]\u001b[0m Started scanning logdir.\n",
            "\u001b[1m[2022-01-21T21:30:40]\u001b[0m Total uploaded: 180 scalars, 0 tensors, 3 binary objects (4.7 MB)\n",
            "\u001b[1m[2022-01-21T21:30:40]\u001b[0m Done scanning logdir.\n",
            "\n",
            "\n",
            "Done. View your TensorBoard at https://tensorboard.dev/experiment/kYlr6u7bRb6TgFKD1UJ8tg/\n"
          ]
        }
      ]
    }
  ]
}